{
 "cells": [
  {
   "cell_type": "code",
   "execution_count": 1,
   "id": "9cb2a6bc",
   "metadata": {},
   "outputs": [
    {
     "name": "stdout",
     "output_type": "stream",
     "text": [
      "Requirement already satisfied: pyspark in c:\\users\\kojoo\\anaconda3\\lib\\site-packages (3.4.0)\n",
      "Requirement already satisfied: py4j==0.10.9.7 in c:\\users\\kojoo\\anaconda3\\lib\\site-packages (from pyspark) (0.10.9.7)\n"
     ]
    }
   ],
   "source": [
    "!pip install pyspark"
   ]
  },
  {
   "cell_type": "code",
   "execution_count": 2,
   "id": "bb731194",
   "metadata": {},
   "outputs": [],
   "source": [
    "# Start a Spark Session\n",
    "from pyspark.sql import SparkSession\n",
    "spark=SparkSession.builder.appName(\"Introduction to Spark\").getOrCreate()"
   ]
  },
  {
   "cell_type": "code",
   "execution_count": 3,
   "id": "04121f64",
   "metadata": {},
   "outputs": [
    {
     "data": {
      "text/html": [
       "\n",
       "            <div>\n",
       "                <p><b>SparkSession - in-memory</b></p>\n",
       "                \n",
       "        <div>\n",
       "            <p><b>SparkContext</b></p>\n",
       "\n",
       "            <p><a href=\"http://DESKTOP-S0OI7GK:4046\">Spark UI</a></p>\n",
       "\n",
       "            <dl>\n",
       "              <dt>Version</dt>\n",
       "                <dd><code>v3.4.0</code></dd>\n",
       "              <dt>Master</dt>\n",
       "                <dd><code>local[*]</code></dd>\n",
       "              <dt>AppName</dt>\n",
       "                <dd><code>Introduction to Spark</code></dd>\n",
       "            </dl>\n",
       "        </div>\n",
       "        \n",
       "            </div>\n",
       "        "
      ],
      "text/plain": [
       "<pyspark.sql.session.SparkSession at 0x1e2e4b9d550>"
      ]
     },
     "execution_count": 3,
     "metadata": {},
     "output_type": "execute_result"
    }
   ],
   "source": [
    "spark"
   ]
  },
  {
   "cell_type": "markdown",
   "id": "ee9bba08",
   "metadata": {},
   "source": [
    "# Connect to a jSON file in Spark"
   ]
  },
  {
   "cell_type": "code",
   "execution_count": 4,
   "id": "b7ea3ac0",
   "metadata": {},
   "outputs": [],
   "source": [
    "path='C:/Users/kojoo/Downloads/ApacheSparkforBigDataAnalytics/employees.json'\n",
    "df=spark.read.json(path)"
   ]
  },
  {
   "cell_type": "code",
   "execution_count": 5,
   "id": "d11bdfb9",
   "metadata": {},
   "outputs": [
    {
     "data": {
      "text/plain": [
       "DataFrame[age: bigint, name: string]"
      ]
     },
     "execution_count": 5,
     "metadata": {},
     "output_type": "execute_result"
    }
   ],
   "source": [
    "df"
   ]
  },
  {
   "cell_type": "code",
   "execution_count": 7,
   "id": "63574c02",
   "metadata": {},
   "outputs": [
    {
     "name": "stdout",
     "output_type": "stream",
     "text": [
      "+----+--------+\n",
      "| age|    name|\n",
      "+----+--------+\n",
      "|null| Michael|\n",
      "|  30|    Andy|\n",
      "|  19|  Justin|\n",
      "|null|    Jane|\n",
      "|  10|     Joe|\n",
      "|  29| Solomon|\n",
      "|null|  neeraj|\n",
      "|  30|  Sachin|\n",
      "|  49|  Nitish|\n",
      "|null|     Ama|\n",
      "|  50|  Serwaa|\n",
      "|  59|   James|\n",
      "|null| Charles|\n",
      "|  44|     Rox|\n",
      "|  23|     Fox|\n",
      "|null|     Moi|\n",
      "|  45|     Fin|\n",
      "|  29|    Mada|\n",
      "|null|   Olive|\n",
      "|  70|   Kehar|\n",
      "|  69|   Lamar|\n",
      "|null|Kendrick|\n",
      "|  10|  Sister|\n",
      "|  20| Brother|\n",
      "+----+--------+\n",
      "\n"
     ]
    }
   ],
   "source": [
    "df.show(100)  # Dataframe"
   ]
  },
  {
   "cell_type": "code",
   "execution_count": 8,
   "id": "a48ef6bc",
   "metadata": {},
   "outputs": [
    {
     "data": {
      "text/plain": [
       "[Row(age=None, name='Michael'),\n",
       " Row(age=30, name='Andy'),\n",
       " Row(age=19, name='Justin'),\n",
       " Row(age=None, name='Jane'),\n",
       " Row(age=10, name='Joe'),\n",
       " Row(age=29, name='Solomon'),\n",
       " Row(age=None, name='neeraj'),\n",
       " Row(age=30, name='Sachin'),\n",
       " Row(age=49, name='Nitish'),\n",
       " Row(age=None, name='Ama'),\n",
       " Row(age=50, name='Serwaa'),\n",
       " Row(age=59, name='James'),\n",
       " Row(age=None, name='Charles'),\n",
       " Row(age=44, name='Rox'),\n",
       " Row(age=23, name='Fox'),\n",
       " Row(age=None, name='Moi'),\n",
       " Row(age=45, name='Fin'),\n",
       " Row(age=29, name='Mada'),\n",
       " Row(age=None, name='Olive'),\n",
       " Row(age=70, name='Kehar'),\n",
       " Row(age=69, name='Lamar'),\n",
       " Row(age=None, name='Kendrick'),\n",
       " Row(age=10, name='Sister'),\n",
       " Row(age=20, name='Brother')]"
      ]
     },
     "execution_count": 8,
     "metadata": {},
     "output_type": "execute_result"
    }
   ],
   "source": [
    "df.collect()  # Array--tuple"
   ]
  },
  {
   "cell_type": "markdown",
   "id": "6ed38415",
   "metadata": {},
   "source": [
    "# Print Schema "
   ]
  },
  {
   "cell_type": "code",
   "execution_count": 9,
   "id": "89557fa7",
   "metadata": {},
   "outputs": [
    {
     "name": "stdout",
     "output_type": "stream",
     "text": [
      "root\n",
      " |-- age: long (nullable = true)\n",
      " |-- name: string (nullable = true)\n",
      "\n"
     ]
    }
   ],
   "source": [
    "df.printSchema()"
   ]
  },
  {
   "cell_type": "markdown",
   "id": "1bea60c9",
   "metadata": {},
   "source": [
    "# Check Columns"
   ]
  },
  {
   "cell_type": "code",
   "execution_count": 10,
   "id": "d0688c17",
   "metadata": {},
   "outputs": [
    {
     "data": {
      "text/plain": [
       "['age', 'name']"
      ]
     },
     "execution_count": 10,
     "metadata": {},
     "output_type": "execute_result"
    }
   ],
   "source": [
    "df.columns"
   ]
  },
  {
   "cell_type": "markdown",
   "id": "00b91346",
   "metadata": {},
   "source": [
    "# Descriptive Stats on DataFrame"
   ]
  },
  {
   "cell_type": "code",
   "execution_count": 11,
   "id": "6bef5a93",
   "metadata": {},
   "outputs": [
    {
     "data": {
      "text/plain": [
       "DataFrame[summary: string, age: string, name: string]"
      ]
     },
     "execution_count": 11,
     "metadata": {},
     "output_type": "execute_result"
    }
   ],
   "source": [
    "df.describe()"
   ]
  },
  {
   "cell_type": "code",
   "execution_count": 12,
   "id": "d0062023",
   "metadata": {},
   "outputs": [
    {
     "name": "stdout",
     "output_type": "stream",
     "text": [
      "+-------+------------------+------+\n",
      "|summary|               age|  name|\n",
      "+-------+------------------+------+\n",
      "|  count|                16|    24|\n",
      "|   mean|            36.625|  null|\n",
      "| stddev|19.172462891692692|  null|\n",
      "|    min|                10|   Ama|\n",
      "|    max|                70|neeraj|\n",
      "+-------+------------------+------+\n",
      "\n"
     ]
    }
   ],
   "source": [
    "df.describe().show()"
   ]
  },
  {
   "cell_type": "markdown",
   "id": "61b8572e",
   "metadata": {},
   "source": [
    "# Change DataTypes in PySpark"
   ]
  },
  {
   "cell_type": "code",
   "execution_count": null,
   "id": "ad4031b7",
   "metadata": {},
   "outputs": [],
   "source": [
    "StringType,IntergerType"
   ]
  },
  {
   "cell_type": "code",
   "execution_count": 13,
   "id": "b3496c39",
   "metadata": {},
   "outputs": [],
   "source": [
    "# Schema Changes\n",
    "from pyspark.sql.types import StructType,StructField,IntegerType,StringType"
   ]
  },
  {
   "cell_type": "code",
   "execution_count": 14,
   "id": "63ab6f91",
   "metadata": {},
   "outputs": [],
   "source": [
    "data_schema=[StructField('age',IntegerType(),True),\n",
    "             StructField('name',StringType(),True) ]\n"
   ]
  },
  {
   "cell_type": "code",
   "execution_count": 15,
   "id": "89dd77b0",
   "metadata": {},
   "outputs": [],
   "source": [
    "final_struc=StructType(fields=data_schema)"
   ]
  },
  {
   "cell_type": "code",
   "execution_count": 16,
   "id": "61bdda29",
   "metadata": {},
   "outputs": [
    {
     "name": "stdout",
     "output_type": "stream",
     "text": [
      "+----+-------+\n",
      "| age|   name|\n",
      "+----+-------+\n",
      "|null|Michael|\n",
      "|  30|   Andy|\n",
      "|  19| Justin|\n",
      "|null|   Jane|\n",
      "|  10|    Joe|\n",
      "+----+-------+\n",
      "only showing top 5 rows\n",
      "\n"
     ]
    }
   ],
   "source": [
    "df=spark.read.json(path,schema=final_struc)\n",
    "df.show(5)"
   ]
  },
  {
   "cell_type": "code",
   "execution_count": 17,
   "id": "fc7b8429",
   "metadata": {},
   "outputs": [
    {
     "name": "stdout",
     "output_type": "stream",
     "text": [
      "root\n",
      " |-- age: integer (nullable = true)\n",
      " |-- name: string (nullable = true)\n",
      "\n"
     ]
    }
   ],
   "source": [
    "df.printSchema()"
   ]
  },
  {
   "cell_type": "markdown",
   "id": "6fa4bcb2",
   "metadata": {},
   "source": [
    "# Selecting Columns in Spark"
   ]
  },
  {
   "cell_type": "code",
   "execution_count": 18,
   "id": "3206663f",
   "metadata": {},
   "outputs": [
    {
     "data": {
      "text/plain": [
       "pyspark.sql.dataframe.DataFrame"
      ]
     },
     "execution_count": 18,
     "metadata": {},
     "output_type": "execute_result"
    }
   ],
   "source": [
    "type(df)"
   ]
  },
  {
   "cell_type": "code",
   "execution_count": 20,
   "id": "61d7cebf",
   "metadata": {},
   "outputs": [
    {
     "ename": "TypeError",
     "evalue": "'Column' object is not callable",
     "output_type": "error",
     "traceback": [
      "\u001b[1;31m---------------------------------------------------------------------------\u001b[0m",
      "\u001b[1;31mTypeError\u001b[0m                                 Traceback (most recent call last)",
      "\u001b[1;32m~\\AppData\\Local\\Temp\\ipykernel_23444\\4062980334.py\u001b[0m in \u001b[0;36m<module>\u001b[1;34m\u001b[0m\n\u001b[1;32m----> 1\u001b[1;33m \u001b[0mdf\u001b[0m\u001b[1;33m[\u001b[0m\u001b[1;34m'age'\u001b[0m\u001b[1;33m]\u001b[0m\u001b[1;33m.\u001b[0m\u001b[0mshow\u001b[0m\u001b[1;33m(\u001b[0m\u001b[1;33m)\u001b[0m\u001b[1;33m\u001b[0m\u001b[1;33m\u001b[0m\u001b[0m\n\u001b[0m",
      "\u001b[1;31mTypeError\u001b[0m: 'Column' object is not callable"
     ]
    }
   ],
   "source": [
    "df['age'].show()"
   ]
  },
  {
   "cell_type": "code",
   "execution_count": 22,
   "id": "f82feb4f",
   "metadata": {},
   "outputs": [
    {
     "name": "stdout",
     "output_type": "stream",
     "text": [
      "+----+\n",
      "| age|\n",
      "+----+\n",
      "|null|\n",
      "|  30|\n",
      "|  19|\n",
      "|null|\n",
      "|  10|\n",
      "|  29|\n",
      "|null|\n",
      "|  30|\n",
      "|  49|\n",
      "|null|\n",
      "|  50|\n",
      "|  59|\n",
      "|null|\n",
      "|  44|\n",
      "|  23|\n",
      "|null|\n",
      "|  45|\n",
      "|  29|\n",
      "|null|\n",
      "|  70|\n",
      "+----+\n",
      "only showing top 20 rows\n",
      "\n"
     ]
    }
   ],
   "source": [
    "df.select('age').show()"
   ]
  },
  {
   "cell_type": "code",
   "execution_count": 23,
   "id": "13b791b1",
   "metadata": {},
   "outputs": [
    {
     "name": "stdout",
     "output_type": "stream",
     "text": [
      "+----+-------+\n",
      "| age|   name|\n",
      "+----+-------+\n",
      "|null|Michael|\n",
      "|  30|   Andy|\n",
      "|  19| Justin|\n",
      "|null|   Jane|\n",
      "|  10|    Joe|\n",
      "+----+-------+\n",
      "only showing top 5 rows\n",
      "\n"
     ]
    }
   ],
   "source": [
    "df.select(['age','name']).show(5)"
   ]
  },
  {
   "cell_type": "markdown",
   "id": "a48fddb1",
   "metadata": {},
   "source": [
    "# Creating #New  Columns "
   ]
  },
  {
   "cell_type": "code",
   "execution_count": 24,
   "id": "cec8093a",
   "metadata": {},
   "outputs": [],
   "source": [
    "# create a calculated column called new age ( age * 2)\n",
    "df=df.withColumn('newage',df['age']*2)"
   ]
  },
  {
   "cell_type": "code",
   "execution_count": 25,
   "id": "d54c18f9",
   "metadata": {},
   "outputs": [
    {
     "name": "stdout",
     "output_type": "stream",
     "text": [
      "root\n",
      " |-- age: integer (nullable = true)\n",
      " |-- name: string (nullable = true)\n",
      " |-- newage: integer (nullable = true)\n",
      "\n"
     ]
    }
   ],
   "source": [
    "df.printSchema()"
   ]
  },
  {
   "cell_type": "code",
   "execution_count": 26,
   "id": "242aafee",
   "metadata": {},
   "outputs": [
    {
     "name": "stdout",
     "output_type": "stream",
     "text": [
      "+----+-------+------+\n",
      "| age|   name|newage|\n",
      "+----+-------+------+\n",
      "|null|Michael|  null|\n",
      "|  30|   Andy|    60|\n",
      "|  19| Justin|    38|\n",
      "|null|   Jane|  null|\n",
      "|  10|    Joe|    20|\n",
      "+----+-------+------+\n",
      "only showing top 5 rows\n",
      "\n"
     ]
    }
   ],
   "source": [
    "df.show(5)"
   ]
  },
  {
   "cell_type": "code",
   "execution_count": 27,
   "id": "f2383179",
   "metadata": {},
   "outputs": [
    {
     "name": "stdout",
     "output_type": "stream",
     "text": [
      "+-----------+-------+------+\n",
      "|age_renamed|   name|newage|\n",
      "+-----------+-------+------+\n",
      "|       null|Michael|  null|\n",
      "|         30|   Andy|    60|\n",
      "|         19| Justin|    38|\n",
      "|       null|   Jane|  null|\n",
      "|         10|    Joe|    20|\n",
      "|         29|Solomon|    58|\n",
      "|       null| neeraj|  null|\n",
      "|         30| Sachin|    60|\n",
      "|         49| Nitish|    98|\n",
      "|       null|    Ama|  null|\n",
      "|         50| Serwaa|   100|\n",
      "|         59|  James|   118|\n",
      "|       null|Charles|  null|\n",
      "|         44|    Rox|    88|\n",
      "|         23|    Fox|    46|\n",
      "|       null|    Moi|  null|\n",
      "|         45|    Fin|    90|\n",
      "|         29|   Mada|    58|\n",
      "|       null|  Olive|  null|\n",
      "|         70|  Kehar|   140|\n",
      "+-----------+-------+------+\n",
      "only showing top 20 rows\n",
      "\n"
     ]
    }
   ],
   "source": [
    "# Column Renamed\n",
    "df=df.withColumnRenamed('age','age_renamed')\n",
    "df.show()"
   ]
  },
  {
   "cell_type": "markdown",
   "id": "6073854e",
   "metadata": {},
   "source": [
    "# Create Materialized SQL Views "
   ]
  },
  {
   "cell_type": "code",
   "execution_count": 28,
   "id": "c2fd25b3",
   "metadata": {},
   "outputs": [],
   "source": [
    "df.createOrReplaceTempView('myview')"
   ]
  },
  {
   "cell_type": "code",
   "execution_count": 31,
   "id": "bbc06d7f",
   "metadata": {},
   "outputs": [
    {
     "name": "stdout",
     "output_type": "stream",
     "text": [
      "+-----------+-------+------+\n",
      "|age_renamed|   name|newage|\n",
      "+-----------+-------+------+\n",
      "|       null|Michael|  null|\n",
      "|         30|   Andy|    60|\n",
      "|         19| Justin|    38|\n",
      "|       null|   Jane|  null|\n",
      "|         10|    Joe|    20|\n",
      "|         29|Solomon|    58|\n",
      "|       null| neeraj|  null|\n",
      "|         30| Sachin|    60|\n",
      "|         49| Nitish|    98|\n",
      "|       null|    Ama|  null|\n",
      "|         50| Serwaa|   100|\n",
      "|         59|  James|   118|\n",
      "|       null|Charles|  null|\n",
      "|         44|    Rox|    88|\n",
      "|         23|    Fox|    46|\n",
      "|       null|    Moi|  null|\n",
      "|         45|    Fin|    90|\n",
      "|         29|   Mada|    58|\n",
      "|       null|  Olive|  null|\n",
      "|         70|  Kehar|   140|\n",
      "+-----------+-------+------+\n",
      "only showing top 20 rows\n",
      "\n"
     ]
    }
   ],
   "source": [
    "spark.sql('select * from myview').show()"
   ]
  },
  {
   "cell_type": "code",
   "execution_count": 32,
   "id": "fc72a35c",
   "metadata": {},
   "outputs": [],
   "source": [
    "df.createOrReplaceTempView('myview2')"
   ]
  },
  {
   "cell_type": "code",
   "execution_count": 34,
   "id": "21805e0d",
   "metadata": {},
   "outputs": [],
   "source": [
    "df2=spark.sql('select * from myview union all select * from myview2')"
   ]
  },
  {
   "cell_type": "code",
   "execution_count": 37,
   "id": "908d7cf3",
   "metadata": {},
   "outputs": [
    {
     "name": "stdout",
     "output_type": "stream",
     "text": [
      "+-----------+-------+------+\n",
      "|age_renamed|   name|newage|\n",
      "+-----------+-------+------+\n",
      "|       null|Michael|  null|\n",
      "|         30|   Andy|    60|\n",
      "|         19| Justin|    38|\n",
      "+-----------+-------+------+\n",
      "only showing top 3 rows\n",
      "\n"
     ]
    }
   ],
   "source": [
    "df2.show(3)"
   ]
  },
  {
   "cell_type": "code",
   "execution_count": 38,
   "id": "08a0960e",
   "metadata": {},
   "outputs": [
    {
     "data": {
      "text/html": [
       "\n",
       "            <div>\n",
       "                <p><b>SparkSession - in-memory</b></p>\n",
       "                \n",
       "        <div>\n",
       "            <p><b>SparkContext</b></p>\n",
       "\n",
       "            <p><a href=\"http://DESKTOP-S0OI7GK:4046\">Spark UI</a></p>\n",
       "\n",
       "            <dl>\n",
       "              <dt>Version</dt>\n",
       "                <dd><code>v3.4.0</code></dd>\n",
       "              <dt>Master</dt>\n",
       "                <dd><code>local[*]</code></dd>\n",
       "              <dt>AppName</dt>\n",
       "                <dd><code>Introduction to Spark</code></dd>\n",
       "            </dl>\n",
       "        </div>\n",
       "        \n",
       "            </div>\n",
       "        "
      ],
      "text/plain": [
       "<pyspark.sql.session.SparkSession at 0x1e2e4b9d550>"
      ]
     },
     "execution_count": 38,
     "metadata": {},
     "output_type": "execute_result"
    }
   ],
   "source": [
    "spark"
   ]
  },
  {
   "cell_type": "markdown",
   "id": "22b2b9b5",
   "metadata": {},
   "source": [
    "# Read CSV In Spark "
   ]
  },
  {
   "cell_type": "code",
   "execution_count": 39,
   "id": "1a133d02",
   "metadata": {},
   "outputs": [
    {
     "name": "stdout",
     "output_type": "stream",
     "text": [
      "+----------+------------------+------------------+------------------+------------------+---------+------------------+\n",
      "|      Date|              Open|              High|               Low|             Close|   Volume|         Adj Close|\n",
      "+----------+------------------+------------------+------------------+------------------+---------+------------------+\n",
      "|2010-01-04|        213.429998|        214.499996|212.38000099999996|        214.009998|123432400|         27.727039|\n",
      "|2010-01-05|        214.599998|        215.589994|        213.249994|        214.379993|150476200|27.774976000000002|\n",
      "|2010-01-06|        214.379993|            215.23|        210.750004|        210.969995|138040000|27.333178000000004|\n",
      "|2010-01-07|            211.75|        212.000006|        209.050005|            210.58|119282800|          27.28265|\n",
      "|2010-01-08|        210.299994|        212.000006|209.06000500000002|211.98000499999998|111902700|         27.464034|\n",
      "|2010-01-11|212.79999700000002|        213.000002|        208.450005|210.11000299999998|115557400|         27.221758|\n",
      "|2010-01-12|209.18999499999998|209.76999500000002|        206.419998|        207.720001|148614900|          26.91211|\n",
      "|2010-01-13|        207.870005|210.92999500000002|        204.099998|        210.650002|151473000|          27.29172|\n",
      "|2010-01-14|210.11000299999998|210.45999700000002|        209.020004|            209.43|108223500|         27.133657|\n",
      "|2010-01-15|210.92999500000002|211.59999700000003|        205.869999|            205.93|148516900|26.680197999999997|\n",
      "|2010-01-19|        208.330002|215.18999900000003|        207.240004|        215.039995|182501900|27.860484999999997|\n",
      "|2010-01-20|        214.910006|        215.549994|        209.500002|            211.73|153038200|         27.431644|\n",
      "|2010-01-21|        212.079994|213.30999599999998|        207.210003|        208.069996|152038600|         26.957455|\n",
      "|2010-01-22|206.78000600000001|        207.499996|            197.16|            197.75|220441900|         25.620401|\n",
      "|2010-01-25|202.51000200000001|        204.699999|        200.190002|        203.070002|266424900|26.309658000000002|\n",
      "|2010-01-26|205.95000100000001|        213.710005|        202.580004|        205.940001|466777500|         26.681494|\n",
      "|2010-01-27|        206.849995|            210.58|        199.530001|        207.880005|430642100|26.932840000000002|\n",
      "|2010-01-28|        204.930004|        205.500004|        198.699995|        199.289995|293375600|25.819922000000002|\n",
      "|2010-01-29|        201.079996|        202.199995|        190.250002|        192.060003|311488100|         24.883208|\n",
      "|2010-02-01|192.36999699999998|             196.0|191.29999899999999|        194.729998|187469100|         25.229131|\n",
      "+----------+------------------+------------------+------------------+------------------+---------+------------------+\n",
      "only showing top 20 rows\n",
      "\n"
     ]
    }
   ],
   "source": [
    "path1='C:/Users/kojoo/Downloads/ApacheSparkforBigDataAnalytics/appl_stock.csv'\n",
    "df3=spark.read.csv(path1,header=True,inferSchema=True)\n",
    "df3.show()"
   ]
  },
  {
   "cell_type": "code",
   "execution_count": 41,
   "id": "7ef7662f",
   "metadata": {},
   "outputs": [
    {
     "name": "stdout",
     "output_type": "stream",
     "text": [
      "root\n",
      " |-- Date: date (nullable = true)\n",
      " |-- Open: double (nullable = true)\n",
      " |-- High: double (nullable = true)\n",
      " |-- Low: double (nullable = true)\n",
      " |-- Close: double (nullable = true)\n",
      " |-- Volume: integer (nullable = true)\n",
      " |-- Adj Close: double (nullable = true)\n",
      "\n"
     ]
    }
   ],
   "source": [
    "df3.printSchema()"
   ]
  },
  {
   "cell_type": "code",
   "execution_count": 42,
   "id": "141531cb",
   "metadata": {},
   "outputs": [
    {
     "name": "stdout",
     "output_type": "stream",
     "text": [
      "+----------+\n",
      "|      Open|\n",
      "+----------+\n",
      "|213.429998|\n",
      "|214.599998|\n",
      "|214.379993|\n",
      "|    211.75|\n",
      "|210.299994|\n",
      "+----------+\n",
      "only showing top 5 rows\n",
      "\n"
     ]
    }
   ],
   "source": [
    "df3.select(\"Open\").show(5)"
   ]
  },
  {
   "cell_type": "code",
   "execution_count": 43,
   "id": "92ee3bd7",
   "metadata": {},
   "outputs": [
    {
     "name": "stdout",
     "output_type": "stream",
     "text": [
      "+------------------+------------------+------------------+\n",
      "|              Open|              High|               Low|\n",
      "+------------------+------------------+------------------+\n",
      "|        213.429998|        214.499996|212.38000099999996|\n",
      "|        214.599998|        215.589994|        213.249994|\n",
      "|        214.379993|            215.23|        210.750004|\n",
      "|            211.75|        212.000006|        209.050005|\n",
      "|        210.299994|        212.000006|209.06000500000002|\n",
      "|212.79999700000002|        213.000002|        208.450005|\n",
      "|209.18999499999998|209.76999500000002|        206.419998|\n",
      "|        207.870005|210.92999500000002|        204.099998|\n",
      "|210.11000299999998|210.45999700000002|        209.020004|\n",
      "|210.92999500000002|211.59999700000003|        205.869999|\n",
      "|        208.330002|215.18999900000003|        207.240004|\n",
      "|        214.910006|        215.549994|        209.500002|\n",
      "|        212.079994|213.30999599999998|        207.210003|\n",
      "|206.78000600000001|        207.499996|            197.16|\n",
      "|202.51000200000001|        204.699999|        200.190002|\n",
      "|205.95000100000001|        213.710005|        202.580004|\n",
      "|        206.849995|            210.58|        199.530001|\n",
      "|        204.930004|        205.500004|        198.699995|\n",
      "|        201.079996|        202.199995|        190.250002|\n",
      "|192.36999699999998|             196.0|191.29999899999999|\n",
      "+------------------+------------------+------------------+\n",
      "only showing top 20 rows\n",
      "\n"
     ]
    }
   ],
   "source": [
    "df3.select([\"Open\",\"High\",\"Low\"]).show()"
   ]
  },
  {
   "cell_type": "markdown",
   "id": "7ca41730",
   "metadata": {},
   "source": [
    " # Filtering "
   ]
  },
  {
   "cell_type": "code",
   "execution_count": 45,
   "id": "33b608c6",
   "metadata": {},
   "outputs": [
    {
     "name": "stdout",
     "output_type": "stream",
     "text": [
      "+----------+------------------+------------------+------------------+------------------+---------+------------------+\n",
      "|      Date|              Open|              High|               Low|             Close|   Volume|         Adj Close|\n",
      "+----------+------------------+------------------+------------------+------------------+---------+------------------+\n",
      "|2010-01-04|        213.429998|        214.499996|212.38000099999996|        214.009998|123432400|         27.727039|\n",
      "|2010-01-05|        214.599998|        215.589994|        213.249994|        214.379993|150476200|27.774976000000002|\n",
      "|2010-01-06|        214.379993|            215.23|        210.750004|        210.969995|138040000|27.333178000000004|\n",
      "|2010-01-07|            211.75|        212.000006|        209.050005|            210.58|119282800|          27.28265|\n",
      "|2010-01-08|        210.299994|        212.000006|209.06000500000002|211.98000499999998|111902700|         27.464034|\n",
      "|2010-01-11|212.79999700000002|        213.000002|        208.450005|210.11000299999998|115557400|         27.221758|\n",
      "|2010-01-13|        207.870005|210.92999500000002|        204.099998|        210.650002|151473000|          27.29172|\n",
      "|2010-01-19|        208.330002|215.18999900000003|        207.240004|        215.039995|182501900|27.860484999999997|\n",
      "|2010-01-20|        214.910006|        215.549994|        209.500002|            211.73|153038200|         27.431644|\n",
      "|2010-03-04|        209.279997|        210.919994|        208.629995|210.71000299999997| 91510300|         27.299493|\n",
      "|2010-03-05|        214.940006|219.69999500000003|214.62999900000003|218.95000499999998|224905100|28.367064000000003|\n",
      "|2010-03-08|220.01000200000001|        220.090004|        218.250002|        219.079994|107472400|         28.383906|\n",
      "|2010-03-09|218.31000299999997|        224.999996|        217.889994|        223.020004|230064800|28.894371999999997|\n",
      "|2010-03-10|        223.829996|225.48000699999997|223.19999500000003|224.83999300000002|149054500|29.130167999999998|\n",
      "|2010-03-11|        223.909998|        225.500008|        223.319998|        225.500008|101425100|          29.21568|\n",
      "|2010-03-12|         227.37001|227.72999199999998|            225.75|        226.600006|104080900|29.358195000000002|\n",
      "|2010-03-15|225.38000499999998|        225.500008|        220.249994|223.83999599999999|123375700|29.000609000000004|\n",
      "|2010-03-16|        224.180004|        224.979996|        222.510006|224.44999700000002|111727000|         29.079641|\n",
      "|2010-03-17|        224.899994|226.44998900000002|223.26999700000002|224.12000299999997|112739200|         29.036887|\n",
      "|2010-03-18|        224.100002|        224.999996|222.60999500000003|        224.650002| 85527400|29.105553000000004|\n",
      "+----------+------------------+------------------+------------------+------------------+---------+------------------+\n",
      "only showing top 20 rows\n",
      "\n"
     ]
    }
   ],
   "source": [
    "df3.filter(\"Close > 210\").show()"
   ]
  },
  {
   "cell_type": "code",
   "execution_count": 46,
   "id": "6181d122",
   "metadata": {},
   "outputs": [
    {
     "name": "stdout",
     "output_type": "stream",
     "text": [
      "+------------------+------------------+---------+\n",
      "|              Open|             Close|   Volume|\n",
      "+------------------+------------------+---------+\n",
      "|        213.429998|        214.009998|123432400|\n",
      "|        214.599998|        214.379993|150476200|\n",
      "|        214.379993|        210.969995|138040000|\n",
      "|            211.75|            210.58|119282800|\n",
      "|        210.299994|211.98000499999998|111902700|\n",
      "|212.79999700000002|210.11000299999998|115557400|\n",
      "|        207.870005|        210.650002|151473000|\n",
      "|        208.330002|        215.039995|182501900|\n",
      "|        214.910006|            211.73|153038200|\n",
      "|        209.279997|210.71000299999997| 91510300|\n",
      "|        214.940006|218.95000499999998|224905100|\n",
      "|220.01000200000001|        219.079994|107472400|\n",
      "|218.31000299999997|        223.020004|230064800|\n",
      "|        223.829996|224.83999300000002|149054500|\n",
      "|        223.909998|        225.500008|101425100|\n",
      "|         227.37001|        226.600006|104080900|\n",
      "|225.38000499999998|223.83999599999999|123375700|\n",
      "|        224.180004|224.44999700000002|111727000|\n",
      "|        224.899994|224.12000299999997|112739200|\n",
      "|        224.100002|        224.650002| 85527400|\n",
      "+------------------+------------------+---------+\n",
      "only showing top 20 rows\n",
      "\n"
     ]
    }
   ],
   "source": [
    "df3.filter(\"Close > 210\").select([\"Open\",'Close',\"Volume\"]).show()"
   ]
  },
  {
   "cell_type": "markdown",
   "id": "190b6b8d",
   "metadata": {},
   "source": [
    "# Filtering on Multiple Conditions"
   ]
  },
  {
   "cell_type": "code",
   "execution_count": 48,
   "id": "224cd334",
   "metadata": {},
   "outputs": [],
   "source": [
    "a=df3[\"Close\"] > 200\n",
    "b=df3[\"Close\"] < 300"
   ]
  },
  {
   "cell_type": "code",
   "execution_count": 50,
   "id": "f9f3858e",
   "metadata": {},
   "outputs": [
    {
     "name": "stdout",
     "output_type": "stream",
     "text": [
      "+----------+------------------+------------------+------------------+------------------+---------+------------------+\n",
      "|      Date|              Open|              High|               Low|             Close|   Volume|         Adj Close|\n",
      "+----------+------------------+------------------+------------------+------------------+---------+------------------+\n",
      "|2010-01-04|        213.429998|        214.499996|212.38000099999996|        214.009998|123432400|         27.727039|\n",
      "|2010-01-05|        214.599998|        215.589994|        213.249994|        214.379993|150476200|27.774976000000002|\n",
      "|2010-01-06|        214.379993|            215.23|        210.750004|        210.969995|138040000|27.333178000000004|\n",
      "|2010-01-07|            211.75|        212.000006|        209.050005|            210.58|119282800|          27.28265|\n",
      "|2010-01-08|        210.299994|        212.000006|209.06000500000002|211.98000499999998|111902700|         27.464034|\n",
      "|2010-01-11|212.79999700000002|        213.000002|        208.450005|210.11000299999998|115557400|         27.221758|\n",
      "|2010-01-12|209.18999499999998|209.76999500000002|        206.419998|        207.720001|148614900|          26.91211|\n",
      "|2010-01-13|        207.870005|210.92999500000002|        204.099998|        210.650002|151473000|          27.29172|\n",
      "|2010-01-14|210.11000299999998|210.45999700000002|        209.020004|            209.43|108223500|         27.133657|\n",
      "|2010-01-15|210.92999500000002|211.59999700000003|        205.869999|            205.93|148516900|26.680197999999997|\n",
      "|2010-01-19|        208.330002|215.18999900000003|        207.240004|        215.039995|182501900|27.860484999999997|\n",
      "|2010-01-20|        214.910006|        215.549994|        209.500002|            211.73|153038200|         27.431644|\n",
      "|2010-01-21|        212.079994|213.30999599999998|        207.210003|        208.069996|152038600|         26.957455|\n",
      "|2010-01-25|202.51000200000001|        204.699999|        200.190002|        203.070002|266424900|26.309658000000002|\n",
      "|2010-01-26|205.95000100000001|        213.710005|        202.580004|        205.940001|466777500|         26.681494|\n",
      "|2010-01-27|        206.849995|            210.58|        199.530001|        207.880005|430642100|26.932840000000002|\n",
      "|2010-02-12|        198.109995|        201.639996|        195.500002|200.37999299999998|163867200|25.961142000000002|\n",
      "|2010-02-16|        201.940002|        203.690002|        201.520006|        203.399996|135934400|         26.352412|\n",
      "|2010-02-17|        204.190001|        204.310003|        200.860004|        202.550003|109099200|         26.242287|\n",
      "|2010-02-18|        201.629995|        203.889994|        200.920006|        202.929998|105706300|         26.291519|\n",
      "+----------+------------------+------------------+------------------+------------------+---------+------------------+\n",
      "only showing top 20 rows\n",
      "\n"
     ]
    }
   ],
   "source": [
    "df3.filter((a) & (b)).show()"
   ]
  },
  {
   "cell_type": "code",
   "execution_count": 51,
   "id": "a502c394",
   "metadata": {},
   "outputs": [
    {
     "name": "stdout",
     "output_type": "stream",
     "text": [
      "+----------+------------------+------------------+------------------+------------------+---------+------------------+\n",
      "|      Date|              Open|              High|               Low|             Close|   Volume|         Adj Close|\n",
      "+----------+------------------+------------------+------------------+------------------+---------+------------------+\n",
      "|2010-01-04|        213.429998|        214.499996|212.38000099999996|        214.009998|123432400|         27.727039|\n",
      "|2010-01-05|        214.599998|        215.589994|        213.249994|        214.379993|150476200|27.774976000000002|\n",
      "|2010-01-06|        214.379993|            215.23|        210.750004|        210.969995|138040000|27.333178000000004|\n",
      "|2010-01-07|            211.75|        212.000006|        209.050005|            210.58|119282800|          27.28265|\n",
      "|2010-01-08|        210.299994|        212.000006|209.06000500000002|211.98000499999998|111902700|         27.464034|\n",
      "|2010-01-11|212.79999700000002|        213.000002|        208.450005|210.11000299999998|115557400|         27.221758|\n",
      "|2010-01-12|209.18999499999998|209.76999500000002|        206.419998|        207.720001|148614900|          26.91211|\n",
      "|2010-01-13|        207.870005|210.92999500000002|        204.099998|        210.650002|151473000|          27.29172|\n",
      "|2010-01-14|210.11000299999998|210.45999700000002|        209.020004|            209.43|108223500|         27.133657|\n",
      "|2010-01-15|210.92999500000002|211.59999700000003|        205.869999|            205.93|148516900|26.680197999999997|\n",
      "|2010-01-19|        208.330002|215.18999900000003|        207.240004|        215.039995|182501900|27.860484999999997|\n",
      "|2010-01-20|        214.910006|        215.549994|        209.500002|            211.73|153038200|         27.431644|\n",
      "|2010-01-21|        212.079994|213.30999599999998|        207.210003|        208.069996|152038600|         26.957455|\n",
      "|2010-01-25|202.51000200000001|        204.699999|        200.190002|        203.070002|266424900|26.309658000000002|\n",
      "|2010-01-26|205.95000100000001|        213.710005|        202.580004|        205.940001|466777500|         26.681494|\n",
      "|2010-01-27|        206.849995|            210.58|        199.530001|        207.880005|430642100|26.932840000000002|\n",
      "|2010-02-12|        198.109995|        201.639996|        195.500002|200.37999299999998|163867200|25.961142000000002|\n",
      "|2010-02-16|        201.940002|        203.690002|        201.520006|        203.399996|135934400|         26.352412|\n",
      "|2010-02-17|        204.190001|        204.310003|        200.860004|        202.550003|109099200|         26.242287|\n",
      "|2010-02-18|        201.629995|        203.889994|        200.920006|        202.929998|105706300|         26.291519|\n",
      "+----------+------------------+------------------+------------------+------------------+---------+------------------+\n",
      "only showing top 20 rows\n",
      "\n"
     ]
    }
   ],
   "source": [
    "df3.filter((df3[\"Close\"] > 200) & (df3[\"Close\"] < 300)).show()"
   ]
  },
  {
   "cell_type": "code",
   "execution_count": 53,
   "id": "cdec424a",
   "metadata": {},
   "outputs": [
    {
     "name": "stdout",
     "output_type": "stream",
     "text": [
      "+----------+----------+----------+------------------+----------+---------+---------+\n",
      "|      Date|      Open|      High|               Low|     Close|   Volume|Adj Close|\n",
      "+----------+----------+----------+------------------+----------+---------+---------+\n",
      "|2010-01-04|213.429998|214.499996|212.38000099999996|214.009998|123432400|27.727039|\n",
      "+----------+----------+----------+------------------+----------+---------+---------+\n",
      "\n"
     ]
    }
   ],
   "source": [
    "# Give us the date where Low is 212.38000099999996\n",
    "df3.filter(\"Low==212.38000099999996\").show()"
   ]
  },
  {
   "cell_type": "code",
   "execution_count": 54,
   "id": "2a4498b6",
   "metadata": {},
   "outputs": [
    {
     "name": "stdout",
     "output_type": "stream",
     "text": [
      "+----------+\n",
      "|      Date|\n",
      "+----------+\n",
      "|2010-01-04|\n",
      "+----------+\n",
      "\n"
     ]
    }
   ],
   "source": [
    "df3.filter(\"Low==212.38000099999996\").select(\"Date\").show()"
   ]
  },
  {
   "cell_type": "markdown",
   "id": "301ebcbd",
   "metadata": {},
   "source": [
    "# Collect "
   ]
  },
  {
   "cell_type": "code",
   "execution_count": 56,
   "id": "03ba3e9b",
   "metadata": {},
   "outputs": [
    {
     "data": {
      "text/plain": [
       "[Row(Date=datetime.date(2010, 1, 4))]"
      ]
     },
     "execution_count": 56,
     "metadata": {},
     "output_type": "execute_result"
    }
   ],
   "source": [
    "df3.filter(\"Low==212.38000099999996\").select(\"Date\").collect()"
   ]
  },
  {
   "cell_type": "code",
   "execution_count": null,
   "id": "1124117d",
   "metadata": {},
   "outputs": [],
   "source": []
  }
 ],
 "metadata": {
  "kernelspec": {
   "display_name": "Python 3 (ipykernel)",
   "language": "python",
   "name": "python3"
  },
  "language_info": {
   "codemirror_mode": {
    "name": "ipython",
    "version": 3
   },
   "file_extension": ".py",
   "mimetype": "text/x-python",
   "name": "python",
   "nbconvert_exporter": "python",
   "pygments_lexer": "ipython3",
   "version": "3.9.13"
  }
 },
 "nbformat": 4,
 "nbformat_minor": 5
}
