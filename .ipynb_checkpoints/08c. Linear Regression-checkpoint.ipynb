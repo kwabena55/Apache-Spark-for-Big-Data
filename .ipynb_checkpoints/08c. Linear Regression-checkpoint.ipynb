{
 "cells": [
  {
   "cell_type": "code",
   "execution_count": 2,
   "metadata": {},
   "outputs": [],
   "source": [
    "from pyspark.sql import SparkSession\n",
    "from pyspark.sql.functions import *\n",
    "from pyspark.sql.types import *\n",
    "from pyspark.ml.regression import LinearRegression\n",
    "from pyspark.ml.linalg import Vectors\n",
    "from pyspark.ml.feature import VectorAssembler\n",
    "spark=SparkSession.builder.appName(\"Linear Regression\").getOrCreate()"
   ]
  },
  {
   "cell_type": "code",
   "execution_count": 3,
   "metadata": {},
   "outputs": [],
   "source": [
    "\n",
    "flightschema=StructType([\n",
    "\n",
    "                            StructField(\"DayofMonth\",IntegerType(), False),\n",
    "                            StructField(\"DayOfWeek\",IntegerType(), False),\n",
    "                            StructField(\"Carrier\",StringType(), False),\n",
    "                            StructField(\"OriginAirportID\",IntegerType(), False),\n",
    "                            StructField(\"DestAirportID\",IntegerType(), False),\n",
    "                            StructField(\"DepDelay\",IntegerType(), False),\n",
    "                            StructField(\"ArrDelay\",IntegerType(), False)\n",
    "])"
   ]
  },
  {
   "cell_type": "code",
   "execution_count": 23,
   "metadata": {},
   "outputs": [],
   "source": [
    "df=spark.read.csv(\"C:/Users/User/Desktop/SparkFolder/Data/flights.csv\",schema=flightschema,header=True)"
   ]
  },
  {
   "cell_type": "code",
   "execution_count": 24,
   "metadata": {},
   "outputs": [
    {
     "name": "stdout",
     "output_type": "stream",
     "text": [
      "+----------+---------+-------+---------------+-------------+--------+--------+\n",
      "|DayofMonth|DayOfWeek|Carrier|OriginAirportID|DestAirportID|DepDelay|ArrDelay|\n",
      "+----------+---------+-------+---------------+-------------+--------+--------+\n",
      "|        19|        5|     DL|          11433|        13303|      -3|       1|\n",
      "|        19|        5|     DL|          14869|        12478|       0|      -8|\n",
      "|        19|        5|     DL|          14057|        14869|      -4|     -15|\n",
      "+----------+---------+-------+---------------+-------------+--------+--------+\n",
      "only showing top 3 rows\n",
      "\n"
     ]
    }
   ],
   "source": [
    "df.show(3)"
   ]
  },
  {
   "cell_type": "markdown",
   "metadata": {},
   "source": [
    "# Select Important Features"
   ]
  },
  {
   "cell_type": "code",
   "execution_count": 25,
   "metadata": {},
   "outputs": [
    {
     "data": {
      "text/plain": [
       "['DayofMonth',\n",
       " 'DayOfWeek',\n",
       " 'Carrier',\n",
       " 'OriginAirportID',\n",
       " 'DestAirportID',\n",
       " 'DepDelay',\n",
       " 'ArrDelay']"
      ]
     },
     "execution_count": 25,
     "metadata": {},
     "output_type": "execute_result"
    }
   ],
   "source": [
    "df.columns"
   ]
  },
  {
   "cell_type": "code",
   "execution_count": 26,
   "metadata": {},
   "outputs": [],
   "source": [
    "important_cols=['DayofMonth','DayOfWeek','OriginAirportID','DestAirportID','DepDelay','ArrDelay']\n"
   ]
  },
  {
   "cell_type": "code",
   "execution_count": 27,
   "metadata": {},
   "outputs": [],
   "source": [
    "data=df.select(important_cols)"
   ]
  },
  {
   "cell_type": "code",
   "execution_count": 28,
   "metadata": {},
   "outputs": [
    {
     "name": "stdout",
     "output_type": "stream",
     "text": [
      "+----------+---------+---------------+-------------+--------+--------+\n",
      "|DayofMonth|DayOfWeek|OriginAirportID|DestAirportID|DepDelay|ArrDelay|\n",
      "+----------+---------+---------------+-------------+--------+--------+\n",
      "|        19|        5|          11433|        13303|      -3|       1|\n",
      "|        19|        5|          14869|        12478|       0|      -8|\n",
      "|        19|        5|          14057|        14869|      -4|     -15|\n",
      "|        19|        5|          15016|        11433|      28|      24|\n",
      "|        19|        5|          11193|        12892|      -6|     -11|\n",
      "|        19|        5|          10397|        15016|      -1|     -19|\n",
      "|        19|        5|          15016|        10397|       0|      -1|\n",
      "|        19|        5|          10397|        14869|      15|      24|\n",
      "|        19|        5|          10397|        10423|      33|      34|\n",
      "|        19|        5|          11278|        10397|     323|     322|\n",
      "|        19|        5|          14107|        13487|      -7|     -13|\n",
      "|        19|        5|          11433|        11298|      22|      41|\n",
      "|        19|        5|          11298|        11433|      40|      20|\n",
      "|        19|        5|          11433|        12892|      -2|      -7|\n",
      "|        19|        5|          10397|        12451|      71|      75|\n",
      "|        19|        5|          12451|        10397|      75|      57|\n",
      "|        19|        5|          12953|        10397|      -1|      10|\n",
      "|        19|        5|          11433|        12953|      -3|     -10|\n",
      "|        19|        5|          10397|        14771|      31|      38|\n",
      "|        19|        5|          13204|        10397|       8|      25|\n",
      "+----------+---------+---------------+-------------+--------+--------+\n",
      "only showing top 20 rows\n",
      "\n"
     ]
    }
   ],
   "source": [
    "data.show()"
   ]
  },
  {
   "cell_type": "markdown",
   "metadata": {},
   "source": [
    "# Preparing training Data"
   ]
  },
  {
   "cell_type": "code",
   "execution_count": 29,
   "metadata": {},
   "outputs": [],
   "source": [
    "#definr the assembler\n",
    "assembler=VectorAssembler(inputCols=['DayofMonth','DayOfWeek','OriginAirportID','DestAirportID','DepDelay']\\\n",
    "                          ,outputCol=\"features\")"
   ]
  },
  {
   "cell_type": "code",
   "execution_count": 30,
   "metadata": {},
   "outputs": [],
   "source": [
    "#Transform Data\n",
    "traindata_tran=assembler.transform(data)"
   ]
  },
  {
   "cell_type": "code",
   "execution_count": 31,
   "metadata": {},
   "outputs": [
    {
     "name": "stdout",
     "output_type": "stream",
     "text": [
      "+----------+---------+---------------+-------------+--------+--------+--------------------+\n",
      "|DayofMonth|DayOfWeek|OriginAirportID|DestAirportID|DepDelay|ArrDelay|            features|\n",
      "+----------+---------+---------------+-------------+--------+--------+--------------------+\n",
      "|        19|        5|          11433|        13303|      -3|       1|[19.0,5.0,11433.0...|\n",
      "|        19|        5|          14869|        12478|       0|      -8|[19.0,5.0,14869.0...|\n",
      "|        19|        5|          14057|        14869|      -4|     -15|[19.0,5.0,14057.0...|\n",
      "|        19|        5|          15016|        11433|      28|      24|[19.0,5.0,15016.0...|\n",
      "|        19|        5|          11193|        12892|      -6|     -11|[19.0,5.0,11193.0...|\n",
      "|        19|        5|          10397|        15016|      -1|     -19|[19.0,5.0,10397.0...|\n",
      "|        19|        5|          15016|        10397|       0|      -1|[19.0,5.0,15016.0...|\n",
      "|        19|        5|          10397|        14869|      15|      24|[19.0,5.0,10397.0...|\n",
      "|        19|        5|          10397|        10423|      33|      34|[19.0,5.0,10397.0...|\n",
      "|        19|        5|          11278|        10397|     323|     322|[19.0,5.0,11278.0...|\n",
      "|        19|        5|          14107|        13487|      -7|     -13|[19.0,5.0,14107.0...|\n",
      "|        19|        5|          11433|        11298|      22|      41|[19.0,5.0,11433.0...|\n",
      "|        19|        5|          11298|        11433|      40|      20|[19.0,5.0,11298.0...|\n",
      "|        19|        5|          11433|        12892|      -2|      -7|[19.0,5.0,11433.0...|\n",
      "|        19|        5|          10397|        12451|      71|      75|[19.0,5.0,10397.0...|\n",
      "|        19|        5|          12451|        10397|      75|      57|[19.0,5.0,12451.0...|\n",
      "|        19|        5|          12953|        10397|      -1|      10|[19.0,5.0,12953.0...|\n",
      "|        19|        5|          11433|        12953|      -3|     -10|[19.0,5.0,11433.0...|\n",
      "|        19|        5|          10397|        14771|      31|      38|[19.0,5.0,10397.0...|\n",
      "|        19|        5|          13204|        10397|       8|      25|[19.0,5.0,13204.0...|\n",
      "+----------+---------+---------------+-------------+--------+--------+--------------------+\n",
      "only showing top 20 rows\n",
      "\n"
     ]
    }
   ],
   "source": [
    "traindata_tran.show()"
   ]
  },
  {
   "cell_type": "code",
   "execution_count": 32,
   "metadata": {},
   "outputs": [
    {
     "data": {
      "text/plain": [
       "DenseVector([19.0, 5.0, 11433.0, 13303.0, -3.0])"
      ]
     },
     "execution_count": 32,
     "metadata": {},
     "output_type": "execute_result"
    }
   ],
   "source": [
    "traindata_tran.head(1)[0][-1]  # Shows 5 features being vectorised"
   ]
  },
  {
   "cell_type": "code",
   "execution_count": 33,
   "metadata": {},
   "outputs": [],
   "source": [
    "final_train_data=traindata_tran.select(traindata_tran[\"ArrDelay\"].cast(\"Int\").alias(\"label\"),traindata_tran[\"features\"])"
   ]
  },
  {
   "cell_type": "code",
   "execution_count": 34,
   "metadata": {},
   "outputs": [
    {
     "name": "stdout",
     "output_type": "stream",
     "text": [
      "+-----+-------------------------------+\n",
      "|label|features                       |\n",
      "+-----+-------------------------------+\n",
      "|1    |[19.0,5.0,11433.0,13303.0,-3.0]|\n",
      "|-8   |[19.0,5.0,14869.0,12478.0,0.0] |\n",
      "|-15  |[19.0,5.0,14057.0,14869.0,-4.0]|\n",
      "+-----+-------------------------------+\n",
      "only showing top 3 rows\n",
      "\n"
     ]
    }
   ],
   "source": [
    "final_train_data.show(truncate=False,n=3)  # Nice trick, reaon to  dirty your hands"
   ]
  },
  {
   "cell_type": "code",
   "execution_count": 35,
   "metadata": {},
   "outputs": [
    {
     "data": {
      "text/plain": [
       "2702218"
      ]
     },
     "execution_count": 35,
     "metadata": {},
     "output_type": "execute_result"
    }
   ],
   "source": [
    "final_train_data.count()"
   ]
  },
  {
   "cell_type": "markdown",
   "metadata": {},
   "source": [
    "# Divide Data into Training and Testing Data"
   ]
  },
  {
   "cell_type": "code",
   "execution_count": 36,
   "metadata": {},
   "outputs": [],
   "source": [
    "df1=traindata_tran.select([\"ArrDelay\",\"features\"])"
   ]
  },
  {
   "cell_type": "code",
   "execution_count": 37,
   "metadata": {},
   "outputs": [
    {
     "name": "stdout",
     "output_type": "stream",
     "text": [
      "+--------+--------------------+\n",
      "|ArrDelay|            features|\n",
      "+--------+--------------------+\n",
      "|       1|[19.0,5.0,11433.0...|\n",
      "|      -8|[19.0,5.0,14869.0...|\n",
      "|     -15|[19.0,5.0,14057.0...|\n",
      "+--------+--------------------+\n",
      "only showing top 3 rows\n",
      "\n"
     ]
    }
   ],
   "source": [
    "df1.show(3)"
   ]
  },
  {
   "cell_type": "code",
   "execution_count": 38,
   "metadata": {},
   "outputs": [],
   "source": [
    "train_data, test_data=df1.randomSplit([0.7,0.3])"
   ]
  },
  {
   "cell_type": "code",
   "execution_count": 40,
   "metadata": {},
   "outputs": [
    {
     "name": "stdout",
     "output_type": "stream",
     "text": [
      "+--------+--------------------------------+\n",
      "|ArrDelay|features                        |\n",
      "+--------+--------------------------------+\n",
      "|-94     |[2.0,4.0,14307.0,12264.0,-5.0]  |\n",
      "|-86     |[7.0,2.0,11618.0,14771.0,-14.0] |\n",
      "|-79     |[20.0,1.0,12478.0,14771.0,-16.0]|\n",
      "+--------+--------------------------------+\n",
      "only showing top 3 rows\n",
      "\n"
     ]
    }
   ],
   "source": [
    "train_data.show(truncate=False,n=3)"
   ]
  },
  {
   "cell_type": "code",
   "execution_count": 41,
   "metadata": {},
   "outputs": [
    {
     "name": "stdout",
     "output_type": "stream",
     "text": [
      "+--------+-------------------------------+\n",
      "|ArrDelay|features                       |\n",
      "+--------+-------------------------------+\n",
      "|-69     |[12.0,7.0,11618.0,14771.0,-9.0]|\n",
      "|-68     |[6.0,1.0,12478.0,13198.0,-13.0]|\n",
      "|-65     |[7.0,2.0,12478.0,14747.0,-1.0] |\n",
      "+--------+-------------------------------+\n",
      "only showing top 3 rows\n",
      "\n"
     ]
    }
   ],
   "source": [
    "test_data.show(truncate=False, n=3)"
   ]
  },
  {
   "cell_type": "markdown",
   "metadata": {},
   "source": [
    "# Train Data"
   ]
  },
  {
   "cell_type": "code",
   "execution_count": 45,
   "metadata": {},
   "outputs": [],
   "source": [
    "lr=LinearRegression(labelCol=\"ArrDelay\",featuresCol=\"features\",predictionCol=\"prediction\", maxIter=10, regParam=3)"
   ]
  },
  {
   "cell_type": "code",
   "execution_count": 46,
   "metadata": {},
   "outputs": [],
   "source": [
    "lrmodel=lr.fit(train_data)"
   ]
  },
  {
   "cell_type": "code",
   "execution_count": 48,
   "metadata": {},
   "outputs": [],
   "source": [
    "results=lrmodel.evaluate(train_data)"
   ]
  },
  {
   "cell_type": "code",
   "execution_count": 49,
   "metadata": {},
   "outputs": [
    {
     "data": {
      "text/plain": [
       "0.8783185590070417"
      ]
     },
     "execution_count": 49,
     "metadata": {},
     "output_type": "execute_result"
    }
   ],
   "source": [
    "results.r2"
   ]
  },
  {
   "cell_type": "code",
   "execution_count": 50,
   "metadata": {},
   "outputs": [
    {
     "data": {
      "text/plain": [
       "0.8783182372920073"
      ]
     },
     "execution_count": 50,
     "metadata": {},
     "output_type": "execute_result"
    }
   ],
   "source": [
    "results.r2adj"
   ]
  },
  {
   "cell_type": "code",
   "execution_count": 51,
   "metadata": {},
   "outputs": [
    {
     "data": {
      "text/plain": [
       "9.17507388022935"
      ]
     },
     "execution_count": 51,
     "metadata": {},
     "output_type": "execute_result"
    }
   ],
   "source": [
    "results.meanAbsoluteError"
   ]
  },
  {
   "cell_type": "code",
   "execution_count": 53,
   "metadata": {},
   "outputs": [
    {
     "name": "stdout",
     "output_type": "stream",
     "text": [
      "+--------+--------------------------------+-------------------+\n",
      "|ArrDelay|features                        |prediction         |\n",
      "+--------+--------------------------------+-------------------+\n",
      "|-94     |[2.0,4.0,14307.0,12264.0,-5.0]  |-7.637654806704127 |\n",
      "|-86     |[7.0,2.0,11618.0,14771.0,-14.0] |-16.64629460363917 |\n",
      "|-79     |[20.0,1.0,12478.0,14771.0,-16.0]|-18.104971859076535|\n",
      "|-75     |[6.0,1.0,12478.0,14747.0,-4.0]  |-7.054792541805659 |\n",
      "|-74     |[4.0,6.0,11618.0,14747.0,-4.0]  |-7.883220238621742 |\n",
      "|-71     |[6.0,1.0,12478.0,14057.0,-2.0]  |-5.047210636752241 |\n",
      "|-71     |[13.0,1.0,12478.0,12892.0,-3.0] |-5.666052945478228 |\n",
      "|-70     |[13.0,1.0,12478.0,12954.0,-4.0] |-6.611639157492311 |\n",
      "|-69     |[2.0,2.0,14492.0,12953.0,-60.0] |-58.78722058800809 |\n",
      "|-69     |[13.0,1.0,12478.0,12892.0,-5.0] |-7.531722232320651 |\n",
      "|-68     |[6.0,1.0,12478.0,14747.0,-1.0]  |-4.256288611542024 |\n",
      "|-68     |[30.0,2.0,12478.0,12892.0,-5.0] |-7.485652002127751 |\n",
      "|-67     |[4.0,6.0,11618.0,14771.0,-15.0] |-18.14933740732328 |\n",
      "|-66     |[13.0,1.0,11618.0,14771.0,-5.0] |-8.052441087213086 |\n",
      "|-66     |[13.0,1.0,12478.0,14893.0,-1.0] |-4.21193025144769  |\n",
      "|-65     |[2.0,4.0,11618.0,14771.0,-7.0]  |-10.438749303535104|\n",
      "|-65     |[7.0,2.0,12478.0,12892.0,-5.0]  |-7.730063957955827 |\n",
      "|-65     |[13.0,1.0,12478.0,12892.0,-7.0] |-9.397391519163072 |\n",
      "|-65     |[13.0,1.0,12478.0,12892.0,0.0]  |-2.867549015214592 |\n",
      "|-64     |[3.0,5.0,12478.0,14771.0,-4.0]  |-7.629936793136765 |\n",
      "+--------+--------------------------------+-------------------+\n",
      "only showing top 20 rows\n",
      "\n"
     ]
    }
   ],
   "source": [
    "lrmodel.transform(train_data).show(truncate=False)"
   ]
  },
  {
   "cell_type": "markdown",
   "metadata": {},
   "source": [
    "# Test Data Prediction"
   ]
  },
  {
   "cell_type": "code",
   "execution_count": 54,
   "metadata": {},
   "outputs": [],
   "source": [
    "prediction=lrmodel.transform(test_data)"
   ]
  },
  {
   "cell_type": "code",
   "execution_count": 55,
   "metadata": {},
   "outputs": [
    {
     "name": "stdout",
     "output_type": "stream",
     "text": [
      "+--------+--------------------+-------------------+\n",
      "|ArrDelay|            features|         prediction|\n",
      "+--------+--------------------+-------------------+\n",
      "|     -69|[12.0,7.0,11618.0...|-12.601898777579311|\n",
      "|     -68|[6.0,1.0,12478.0,...|-15.131720788235938|\n",
      "|     -65|[7.0,2.0,12478.0,...|-4.3802440897512644|\n",
      "|     -64|[12.0,7.0,10721.0...| -5.825642012355034|\n",
      "|     -64|[27.0,6.0,12478.0...| -5.643811028675506|\n",
      "+--------+--------------------+-------------------+\n",
      "only showing top 5 rows\n",
      "\n"
     ]
    }
   ],
   "source": [
    "prediction.show(5)"
   ]
  },
  {
   "cell_type": "code",
   "execution_count": 57,
   "metadata": {},
   "outputs": [],
   "source": [
    "test_eval=lrmodel.evaluate(test_data)"
   ]
  },
  {
   "cell_type": "code",
   "execution_count": 58,
   "metadata": {},
   "outputs": [
    {
     "data": {
      "text/plain": [
       "0.8767483259110911"
      ]
     },
     "execution_count": 58,
     "metadata": {},
     "output_type": "execute_result"
    }
   ],
   "source": [
    "test_eval.r2"
   ]
  },
  {
   "cell_type": "code",
   "execution_count": 59,
   "metadata": {},
   "outputs": [
    {
     "data": {
      "text/plain": [
       "13.529223369663539"
      ]
     },
     "execution_count": 59,
     "metadata": {},
     "output_type": "execute_result"
    }
   ],
   "source": [
    "test_eval.rootMeanSquaredError"
   ]
  },
  {
   "cell_type": "code",
   "execution_count": null,
   "metadata": {},
   "outputs": [],
   "source": []
  }
 ],
 "metadata": {
  "kernelspec": {
   "display_name": "Python 3",
   "language": "python",
   "name": "python3"
  },
  "language_info": {
   "codemirror_mode": {
    "name": "ipython",
    "version": 3
   },
   "file_extension": ".py",
   "mimetype": "text/x-python",
   "name": "python",
   "nbconvert_exporter": "python",
   "pygments_lexer": "ipython3",
   "version": "3.8.3"
  }
 },
 "nbformat": 4,
 "nbformat_minor": 4
}
