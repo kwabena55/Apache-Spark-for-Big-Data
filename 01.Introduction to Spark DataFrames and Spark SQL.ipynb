{
 "cells": [
  {
   "cell_type": "code",
   "execution_count": 1,
   "metadata": {},
   "outputs": [],
   "source": [
    "#Create a Spark  Session in order to be capable of accessing all Spark API\n",
    "from pyspark.sql import SparkSession\n",
    "from pyspark.sql.types import *\n",
    "spark=SparkSession.builder.appName(\"Intro to Dataframe\").getOrCreate()"
   ]
  },
  {
   "cell_type": "code",
   "execution_count": 2,
   "metadata": {},
   "outputs": [],
   "source": [
    "df=spark.read.csv(\"C:/Users/User/Desktop/SparkFolder/Data/purchases.csv\",inferSchema=True,header=True)"
   ]
  },
  {
   "cell_type": "code",
   "execution_count": 3,
   "metadata": {},
   "outputs": [
    {
     "output_type": "stream",
     "name": "stdout",
     "text": [
      "root\n |-- Date\tTime\tCity\tItem\tTotal\tPayment: string (nullable = true)\n\n"
     ]
    }
   ],
   "source": [
    "df.printSchema()"
   ]
  },
  {
   "source": [
    "Definr Data Schema for file we want to  read"
   ],
   "cell_type": "markdown",
   "metadata": {}
  },
  {
   "cell_type": "code",
   "execution_count": 4,
   "metadata": {},
   "outputs": [],
   "source": [
    "purchaseschema=StructType(\n",
    "                            [ StructField(\"Date\",DateType(),True),\n",
    "                              StructField(\"Time\",StringType(),True),\n",
    "                              StructField(\"City\",StringType(),True),\n",
    "                              StructField(\"Item\",StringType(),True),\n",
    "                              StructField(\"Total\",FloatType(),True),\n",
    "                              StructField(\"Payment\",StringType(),True)\n",
    "                             \n",
    "\n",
    "                            ]\n",
    ")"
   ]
  },
  {
   "cell_type": "code",
   "execution_count": 5,
   "metadata": {},
   "outputs": [],
   "source": [
    "df=spark.read.csv(\"C:/Users/User/Desktop/SparkFolder/Data/purchases.csv\",schema=purchaseschema,header=True,sep=\"\\t\")"
   ]
  },
  {
   "cell_type": "code",
   "execution_count": 6,
   "metadata": {},
   "outputs": [
    {
     "output_type": "stream",
     "name": "stdout",
     "text": [
      "root\n |-- Date: date (nullable = true)\n |-- Time: string (nullable = true)\n |-- City: string (nullable = true)\n |-- Item: string (nullable = true)\n |-- Total: float (nullable = true)\n |-- Payment: string (nullable = true)\n\n"
     ]
    }
   ],
   "source": [
    "df.printSchema()"
   ]
  },
  {
   "cell_type": "code",
   "execution_count": 7,
   "metadata": {},
   "outputs": [
    {
     "output_type": "stream",
     "name": "stdout",
     "text": [
      "+----------+-----+----------+-------------------+------+----------+\n|      Date| Time|      City|               Item| Total|   Payment|\n+----------+-----+----------+-------------------+------+----------+\n|2012-01-01|09:00|  San Jose|     Men's Clothing|214.05|      Amex|\n|2012-01-01|09:00|Fort Worth|   Women's Clothing|153.57|      Visa|\n|2012-01-01|09:00| San Diego|              Music| 66.08|      Cash|\n|2012-01-01|09:00|Pittsburgh|       Pet Supplies|493.51|  Discover|\n|2012-01-01|09:00|     Omaha|Children's Clothing|235.63|MasterCard|\n+----------+-----+----------+-------------------+------+----------+\nonly showing top 5 rows\n\n"
     ]
    }
   ],
   "source": [
    "df.show(5)"
   ]
  },
  {
   "source": [
    "Counting the Number of rows , printing the Dataframe  Schema and Printng Statistic of the data"
   ],
   "cell_type": "markdown",
   "metadata": {}
  },
  {
   "cell_type": "code",
   "execution_count": 8,
   "metadata": {},
   "outputs": [
    {
     "output_type": "stream",
     "name": "stdout",
     "text": [
      "the number of records  is : 4138476\n"
     ]
    }
   ],
   "source": [
    "# Count number of rows of our dataframe\n",
    "df_rows=df.count()\n",
    "print(f\"the number of records  is :\" , df_rows)\n"
   ]
  },
  {
   "cell_type": "code",
   "execution_count": 9,
   "metadata": {},
   "outputs": [
    {
     "output_type": "stream",
     "name": "stdout",
     "text": [
      "+-------+-------+-------------+----------------+------------------+-------+\n|summary|   Time|         City|            Item|             Total|Payment|\n+-------+-------+-------------+----------------+------------------+-------+\n|  count|4138476|      4138476|         4138476|           4138476|4138476|\n|   mean|   null|         null|            null|249.96108549398525|   null|\n| stddev|   null|         null|            null| 144.3174111542959|   null|\n|    min|  09:00|  Albuquerque|            Baby|               0.0|   Amex|\n|    max|  17:59|Winston–Salem|Women's Clothing|            499.99|   Visa|\n+-------+-------+-------------+----------------+------------------+-------+\n\n"
     ]
    }
   ],
   "source": [
    "# Show data Statistics\n",
    "df.describe().show()"
   ]
  },
  {
   "cell_type": "code",
   "execution_count": 10,
   "metadata": {},
   "outputs": [
    {
     "output_type": "stream",
     "name": "stdout",
     "text": [
      "+--------------+------+\n|          City| Total|\n+--------------+------+\n|      San Jose|214.05|\n|    Fort Worth|153.57|\n|     San Diego| 66.08|\n|    Pittsburgh|493.51|\n|         Omaha|235.63|\n|      Stockton|247.18|\n|        Austin| 379.6|\n|      New York| 296.8|\n|Corpus Christi| 25.38|\n|    Fort Worth|213.88|\n|     Las Vegas| 53.26|\n|        Newark| 39.75|\n|        Austin|469.63|\n|    Greensboro|290.82|\n| San Francisco|260.65|\n|       Lincoln| 136.9|\n|       Buffalo|483.82|\n|      San Jose|215.82|\n|        Boston|418.94|\n|       Houston|309.16|\n+--------------+------+\nonly showing top 20 rows\n\n"
     ]
    }
   ],
   "source": [
    "# Create a new Dataframe from Coty and Total Columns\n",
    "df.select([\"City\",\"Total\"]).show()"
   ]
  },
  {
   "source": [
    " Adding a Constant value to every row in Total Column"
   ],
   "cell_type": "markdown",
   "metadata": {}
  },
  {
   "cell_type": "code",
   "execution_count": 11,
   "metadata": {},
   "outputs": [
    {
     "output_type": "stream",
     "name": "stdout",
     "text": [
      "+--------------+------------+\n|          City|(Total + 10)|\n+--------------+------------+\n|      San Jose|      224.05|\n|    Fort Worth|      163.57|\n|     San Diego|       76.08|\n|    Pittsburgh|      503.51|\n|         Omaha|      245.63|\n|      Stockton|      257.18|\n|        Austin|       389.6|\n|      New York|       306.8|\n|Corpus Christi|   35.379997|\n|    Fort Worth|      223.88|\n|     Las Vegas|       63.26|\n|        Newark|       49.75|\n|        Austin|      479.63|\n|    Greensboro|      300.82|\n| San Francisco|      270.65|\n|       Lincoln|       146.9|\n|       Buffalo|      493.82|\n|      San Jose|      225.82|\n|        Boston|      428.94|\n|       Houston|      319.16|\n+--------------+------------+\nonly showing top 20 rows\n\n"
     ]
    }
   ],
   "source": [
    "df.select([\"City\",df[\"Total\"]+ 10]).show()"
   ]
  },
  {
   "source": [
    "Filtering DataFrame using some Specific  Conditions"
   ],
   "cell_type": "markdown",
   "metadata": {}
  },
  {
   "cell_type": "code",
   "execution_count": 12,
   "metadata": {},
   "outputs": [
    {
     "output_type": "stream",
     "name": "stdout",
     "text": [
      "+----------+-----+--------------+--------------------+------+----------+\n|      Date| Time|          City|                Item| Total|   Payment|\n+----------+-----+--------------+--------------------+------+----------+\n|2012-01-01|09:00|      San Jose|      Men's Clothing|214.05|      Amex|\n|2012-01-01|09:00|    Pittsburgh|        Pet Supplies|493.51|  Discover|\n|2012-01-01|09:00|         Omaha| Children's Clothing|235.63|MasterCard|\n|2012-01-01|09:00|      Stockton|      Men's Clothing|247.18|MasterCard|\n|2012-01-01|09:00|        Austin|             Cameras| 379.6|      Visa|\n|2012-01-01|09:00|      New York|Consumer Electronics| 296.8|      Cash|\n|2012-01-01|09:00|    Fort Worth|                Toys|213.88|      Visa|\n|2012-01-01|09:00|        Austin|             Cameras|469.63|MasterCard|\n|2012-01-01|09:00|    Greensboro|                DVDs|290.82|MasterCard|\n|2012-01-01|09:00| San Francisco|               Music|260.65|  Discover|\n|2012-01-01|09:00|       Buffalo|    Women's Clothing|483.82|      Visa|\n|2012-01-01|09:00|      San Jose|    Women's Clothing|215.82|      Cash|\n|2012-01-01|09:00|        Boston|             Cameras|418.94|      Amex|\n|2012-01-01|09:00|       Houston|                Baby|309.16|      Visa|\n|2012-01-01|09:00|Virginia Beach| Children's Clothing|376.11|      Amex|\n|2012-01-01|09:01|     Riverside|Consumer Electronics|252.88|      Cash|\n|2012-01-01|09:01|         Tulsa|                Baby|205.06|      Visa|\n|2012-01-01|09:01|    Fort Wayne|      Men's Clothing|370.55|      Amex|\n|2012-01-01|09:01|        Austin|      Sporting Goods|327.75|  Discover|\n|2012-01-01|09:01|     Anchorage|               Music|298.86|MasterCard|\n+----------+-----+--------------+--------------------+------+----------+\nonly showing top 20 rows\n\n"
     ]
    }
   ],
   "source": [
    "# Filter all records with total greater than 20\n",
    "df.filter(df[\"Total\"] > 200 ).show()"
   ]
  },
  {
   "source": [
    "Sorting DataFrame by Columns"
   ],
   "cell_type": "markdown",
   "metadata": {}
  },
  {
   "cell_type": "code",
   "execution_count": 13,
   "metadata": {},
   "outputs": [
    {
     "output_type": "stream",
     "name": "stdout",
     "text": [
      "+----------+-----+----------------+--------------------+-----+----------+\n|      Date| Time|            City|                Item|Total|   Payment|\n+----------+-----+----------------+--------------------+-----+----------+\n|2012-11-14|09:51| North Las Vegas|    Women's Clothing|  0.0|MasterCard|\n|2012-10-23|16:22|      Pittsburgh|                Baby|  0.0|      Cash|\n|2012-10-19|11:05|          Newark|      Men's Clothing|  0.0|      Amex|\n|2012-10-07|15:47|         El Paso|Consumer Electronics|  0.0|      Visa|\n|2012-10-23|09:55|      Chesapeake|               Books|  0.0|  Discover|\n|2012-11-03|14:28|       Milwaukee|                 CDs|  0.0|  Discover|\n|2012-11-01|13:24|         Phoenix|                Baby|  0.0|      Amex|\n|2012-11-03|12:31|         Spokane|   Health and Beauty|  0.0|      Amex|\n|2012-11-11|17:47|          Irvine|      Men's Clothing|  0.0|      Amex|\n|2012-10-24|17:45|         Memphis|        Pet Supplies|  0.0|      Visa|\n|2012-11-24|15:05|          Austin|             Cameras|  0.0|      Visa|\n|2012-11-24|17:13|Colorado Springs|                DVDs|  0.0|      Visa|\n|2012-12-03|14:22|         Lubbock|              Crafts|  0.0|MasterCard|\n|2012-12-10|17:39|       Las Vegas|        Pet Supplies|  0.0|      Amex|\n|2012-12-19|09:02|         Houston|    Women's Clothing|  0.0|  Discover|\n|2012-12-20|09:26|     Baton Rouge|              Garden|  0.0|      Amex|\n|2012-12-22|14:02|         Anaheim|               Books|  0.0|      Amex|\n|2012-12-25|12:19|      Saint Paul|    Women's Clothing|  0.0|  Discover|\n|2012-12-27|11:46|       Henderson|    Women's Clothing|  0.0|MasterCard|\n|2012-12-29|13:58|           Boise|   Health and Beauty|  0.0|      Cash|\n+----------+-----+----------------+--------------------+-----+----------+\nonly showing top 20 rows\n\n"
     ]
    }
   ],
   "source": [
    "from pyspark.sql.functions import *\n",
    "df.orderBy(\"Total\").show()  # Sort by ascending"
   ]
  },
  {
   "cell_type": "code",
   "execution_count": 14,
   "metadata": {},
   "outputs": [
    {
     "output_type": "stream",
     "name": "stdout",
     "text": [
      "+----------+-----+-------------+--------------------+------+----------+\n|      Date| Time|         City|                Item| Total|   Payment|\n+----------+-----+-------------+--------------------+------+----------+\n|2012-05-17|13:15|      Gilbert|    Women's Clothing|499.99|      Amex|\n|2012-04-16|15:44|    Henderson|         Video Games|499.99|MasterCard|\n|2012-04-07|09:17|Oklahoma City| Children's Clothing|499.99|  Discover|\n|2012-07-02|15:50|    Anchorage|Consumer Electronics|499.99|      Visa|\n|2012-05-15|10:32|    Baltimore|         Video Games|499.99|  Discover|\n|2012-11-24|16:55|      Seattle|                Baby|499.99|  Discover|\n|2012-10-07|15:19|      Phoenix| Children's Clothing|499.99|      Amex|\n|2012-10-08|13:08|      Hialeah| Children's Clothing|499.99|      Amex|\n|2012-05-18|11:20|   Long Beach|      Sporting Goods|499.99|      Amex|\n|2012-05-11|17:08|     San Jose| Children's Clothing|499.99|      Visa|\n|2012-12-26|15:14|      Buffalo|   Health and Beauty|499.99|      Visa|\n|2012-12-27|11:25|      Hialeah|        Pet Supplies|499.99|  Discover|\n|2012-12-28|11:56|    Henderson|           Computers|499.99|      Amex|\n|2012-11-25|11:15|      Oakland|                 CDs|499.99|      Cash|\n|2012-10-10|13:26|      Lincoln|                DVDs|499.99|MasterCard|\n|2012-11-28|17:20|      Orlando|               Books|499.99|      Visa|\n|2012-10-18|12:02|     New York|              Crafts|499.99|      Visa|\n|2012-12-09|09:32|       Fresno|   Health and Beauty|499.99|  Discover|\n|2012-11-20|14:50|      Houston|           Computers|499.99|  Discover|\n|2012-12-25|10:58| Jacksonville|         Video Games|499.99|      Visa|\n+----------+-----+-------------+--------------------+------+----------+\nonly showing top 20 rows\n\n"
     ]
    }
   ],
   "source": [
    "df.orderBy(df[\"Total\"].desc()).show()"
   ]
  },
  {
   "source": [
    "Calculating the number of Transactions in Each City"
   ],
   "cell_type": "markdown",
   "metadata": {}
  },
  {
   "cell_type": "code",
   "execution_count": 15,
   "metadata": {},
   "outputs": [
    {
     "output_type": "stream",
     "name": "stdout",
     "text": [
      "+---------------+-----+\n|           City|count|\n+---------------+-----+\n|North Las Vegas|40013|\n|        Phoenix|40333|\n|          Omaha|40209|\n|      Anchorage|39806|\n|        Anaheim|40086|\n+---------------+-----+\nonly showing top 5 rows\n\n"
     ]
    }
   ],
   "source": [
    "df.groupBy(\"City\").count().show(5)"
   ]
  },
  {
   "cell_type": "code",
   "execution_count": 16,
   "metadata": {},
   "outputs": [
    {
     "output_type": "stream",
     "name": "stdout",
     "text": [
      "+-----+-----+\n| City|count|\n+-----+-----+\n|Omaha|40209|\n+-----+-----+\n\n"
     ]
    }
   ],
   "source": [
    "aa=df.groupBy(\"City\").count()\n",
    "aa.filter(aa[\"City\"]==\"Omaha\").show()"
   ]
  },
  {
   "source": [
    "Indexing and Accessing DataFrame\n",
    "* Since spark DataFrame is distributed into VLusters, we cannot access it by [row,column] as in Pandas DataFrame. There is an alternative way to do that\n",
    "* By creating new Column with \"Incremental ID\".  Then we can access the rows by using the \".filter() function to our incremetal ID Column"
   ],
   "cell_type": "markdown",
   "metadata": {}
  },
  {
   "cell_type": "code",
   "execution_count": 17,
   "metadata": {},
   "outputs": [
    {
     "output_type": "stream",
     "name": "stdout",
     "text": [
      "+----------+-----+----------+----------------+------+-------+-----+\n|      Date| Time|      City|            Item| Total|Payment|Index|\n+----------+-----+----------+----------------+------+-------+-----+\n|2012-01-01|09:00|  San Jose|  Men's Clothing|214.05|   Amex|    0|\n|2012-01-01|09:00|Fort Worth|Women's Clothing|153.57|   Visa|    1|\n+----------+-----+----------+----------------+------+-------+-----+\nonly showing top 2 rows\n\n"
     ]
    }
   ],
   "source": [
    "from pyspark.sql.functions import monotonically_increasing_id\n",
    "df1=df.withColumn(\"Index\",monotonically_increasing_id())\n",
    "df1.show(2)\n"
   ]
  },
  {
   "cell_type": "code",
   "execution_count": 18,
   "metadata": {},
   "outputs": [
    {
     "output_type": "stream",
     "name": "stdout",
     "text": [
      "+----------+-----+----------+-------------------+------+----------+-----+\n|      Date| Time|      City|               Item| Total|   Payment|Index|\n+----------+-----+----------+-------------------+------+----------+-----+\n|2012-01-01|09:00|Pittsburgh|       Pet Supplies|493.51|  Discover|    3|\n|2012-01-01|09:00|     Omaha|Children's Clothing|235.63|MasterCard|    4|\n+----------+-----+----------+-------------------+------+----------+-----+\n\n"
     ]
    }
   ],
   "source": [
    "df1.filter((df1[\"Index\"]> 2) & (df1[\"Index\"] < 5)).show()"
   ]
  },
  {
   "source": [
    "using SQL Queries in Spark"
   ],
   "cell_type": "markdown",
   "metadata": {}
  },
  {
   "cell_type": "code",
   "execution_count": 21,
   "metadata": {},
   "outputs": [],
   "source": [
    "df1.createOrReplaceTempView(\"Purchase\")"
   ]
  },
  {
   "cell_type": "code",
   "execution_count": 22,
   "metadata": {},
   "outputs": [],
   "source": [
    "results=spark.sql(\"Select * from purchase where index between 10 and 15 \")"
   ]
  },
  {
   "cell_type": "code",
   "execution_count": 23,
   "metadata": {},
   "outputs": [
    {
     "output_type": "stream",
     "name": "stdout",
     "text": [
      "+----------+-----+-------------+-----------+------+----------+-----+\n|      Date| Time|         City|       Item| Total|   Payment|Index|\n+----------+-----+-------------+-----------+------+----------+-----+\n|2012-01-01|09:00|    Las Vegas|Video Games| 53.26|      Visa|   10|\n|2012-01-01|09:00|       Newark|Video Games| 39.75|      Cash|   11|\n|2012-01-01|09:00|       Austin|    Cameras|469.63|MasterCard|   12|\n|2012-01-01|09:00|   Greensboro|       DVDs|290.82|MasterCard|   13|\n|2012-01-01|09:00|San Francisco|      Music|260.65|  Discover|   14|\n|2012-01-01|09:00|      Lincoln|     Garden| 136.9|      Visa|   15|\n+----------+-----+-------------+-----------+------+----------+-----+\n\n"
     ]
    }
   ],
   "source": [
    "results.show()"
   ]
  },
  {
   "cell_type": "code",
   "execution_count": 29,
   "metadata": {},
   "outputs": [
    {
     "output_type": "stream",
     "name": "stdout",
     "text": [
      "+----------+-----+-------------+--------------------+------+----------+-----+\n|      Date| Time|         City|                Item| Total|   Payment|Index|\n+----------+-----+-------------+--------------------+------+----------+-----+\n|2012-01-01|09:00|        Omaha| Children's Clothing|235.63|MasterCard|    0|\n|2012-01-01|09:01|        Omaha|                Baby|255.68|MasterCard|    1|\n|2012-01-01|09:03|        Omaha| Children's Clothing|387.75|      Visa|    2|\n|2012-01-01|09:06|        Omaha|   Health and Beauty|333.15|MasterCard|    3|\n|2012-01-01|09:06|        Omaha|                DVDs|164.38|      Cash|    4|\n|2012-01-01|09:09|        Omaha|Consumer Electronics| 435.3|      Visa|    5|\n|2012-01-01|09:12|Oklahoma City|               Music|162.52|  Discover|    6|\n|2012-01-01|09:13|Oklahoma City|   Health and Beauty| 495.4|      Visa|    7|\n|2012-01-01|09:19|        Omaha|             Cameras|436.01|  Discover|    8|\n|2012-01-01|09:22|Oklahoma City| Children's Clothing|166.08|MasterCard|    9|\n|2012-01-01|09:23|Oklahoma City|           Computers|478.32|  Discover|   10|\n|2012-01-01|09:24|        Omaha|             Cameras|427.08|MasterCard|   11|\n|2012-01-01|09:26|        Omaha|                Toys|160.88|  Discover|   12|\n|2012-01-01|09:27|Oklahoma City|    Women's Clothing|   3.9|      Amex|   13|\n|2012-01-01|09:31|Oklahoma City|    Women's Clothing| 14.62|      Cash|   14|\n|2012-01-01|09:31|        Omaha|                DVDs| 188.5|  Discover|   15|\n|2012-01-01|09:36|Oklahoma City|Consumer Electronics|150.99|  Discover|   16|\n|2012-01-01|09:44|Oklahoma City|    Women's Clothing|474.29|MasterCard|   17|\n|2012-01-01|09:47|        Omaha|        Pet Supplies| 46.82|  Discover|   18|\n|2012-01-01|09:48|        Omaha|                Toys| 53.24|      Cash|   19|\n+----------+-----+-------------+--------------------+------+----------+-----+\nonly showing top 20 rows\n\n"
     ]
    }
   ],
   "source": [
    "spark.sql(\"Select * from purchase  where city like '%ma%' \").show()"
   ]
  },
  {
   "cell_type": "code",
   "execution_count": null,
   "metadata": {},
   "outputs": [],
   "source": []
  }
 ],
 "metadata": {
  "kernelspec": {
   "display_name": "Python 3",
   "language": "python",
   "name": "python3"
  },
  "language_info": {
   "codemirror_mode": {
    "name": "ipython",
    "version": 3
   },
   "file_extension": ".py",
   "mimetype": "text/x-python",
   "name": "python",
   "nbconvert_exporter": "python",
   "pygments_lexer": "ipython3",
   "version": "3.8.3-final"
  }
 },
 "nbformat": 4,
 "nbformat_minor": 4
}