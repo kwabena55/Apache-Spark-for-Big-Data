{
 "cells": [
  {
   "cell_type": "code",
   "execution_count": 1,
   "metadata": {},
   "outputs": [],
   "source": [
    "from pyspark.sql import SparkSession\n",
    "spark=SparkSession.builder.appName(\"LogisticRegression\").getOrCreate()"
   ]
  },
  {
   "cell_type": "code",
   "execution_count": 3,
   "metadata": {},
   "outputs": [],
   "source": [
    "from pyspark.ml.classification import LogisticRegression\n",
    "from pyspark.ml.feature import VectorAssembler\n",
    "from pyspark.sql.types import *\n",
    "from pyspark.sql.functions import *"
   ]
  },
  {
   "cell_type": "code",
   "execution_count": 8,
   "metadata": {},
   "outputs": [],
   "source": [
    "my_data=spark.read.csv(\"C:/Users/User/Desktop/Data/flights.csv\", header=True, inferSchema=True)"
   ]
  },
  {
   "cell_type": "code",
   "execution_count": 9,
   "metadata": {},
   "outputs": [
    {
     "name": "stdout",
     "output_type": "stream",
     "text": [
      "+----------+---------+-------+---------------+-------------+--------+--------+\n",
      "|DayofMonth|DayOfWeek|Carrier|OriginAirportID|DestAirportID|DepDelay|ArrDelay|\n",
      "+----------+---------+-------+---------------+-------------+--------+--------+\n",
      "|        19|        5|     DL|          11433|        13303|      -3|       1|\n",
      "|        19|        5|     DL|          14869|        12478|       0|      -8|\n",
      "|        19|        5|     DL|          14057|        14869|      -4|     -15|\n",
      "|        19|        5|     DL|          15016|        11433|      28|      24|\n",
      "|        19|        5|     DL|          11193|        12892|      -6|     -11|\n",
      "+----------+---------+-------+---------------+-------------+--------+--------+\n",
      "only showing top 5 rows\n",
      "\n"
     ]
    }
   ],
   "source": [
    "my_data.show(5)"
   ]
  },
  {
   "cell_type": "code",
   "execution_count": 10,
   "metadata": {},
   "outputs": [
    {
     "name": "stdout",
     "output_type": "stream",
     "text": [
      "root\n",
      " |-- DayofMonth: integer (nullable = true)\n",
      " |-- DayOfWeek: integer (nullable = true)\n",
      " |-- Carrier: string (nullable = true)\n",
      " |-- OriginAirportID: integer (nullable = true)\n",
      " |-- DestAirportID: integer (nullable = true)\n",
      " |-- DepDelay: integer (nullable = true)\n",
      " |-- ArrDelay: integer (nullable = true)\n",
      "\n"
     ]
    }
   ],
   "source": [
    "my_data.printSchema()"
   ]
  },
  {
   "cell_type": "code",
   "execution_count": 19,
   "metadata": {},
   "outputs": [],
   "source": [
    "flightschema=StructType([\n",
    "   StructField (\"DayofMonth\", IntegerType(),False),\n",
    "    StructField(\"DayofWeek\", IntegerType(),False),\n",
    "    StructField(\"Carrier\", StringType(),False),\n",
    "   StructField (\"OriginAirportID\", IntegerType(),False),\n",
    "    StructField(\"DestAirportID\", IntegerType(),False),\n",
    "    StructField(\"DepDelay\", IntegerType(),False),\n",
    "    StructField(\"ArrDelay\", IntegerType(),False)\n",
    "]\n",
    ")"
   ]
  },
  {
   "cell_type": "code",
   "execution_count": 20,
   "metadata": {},
   "outputs": [],
   "source": [
    "df=spark.read.csv(\"C:/Users/User/Desktop/Data/flights.csv\", header=True, schema=flightschema)"
   ]
  },
  {
   "cell_type": "code",
   "execution_count": 21,
   "metadata": {},
   "outputs": [
    {
     "name": "stdout",
     "output_type": "stream",
     "text": [
      "+----------+---------+-------+---------------+-------------+--------+--------+\n",
      "|DayofMonth|DayofWeek|Carrier|OriginAirportID|DestAirportID|DepDelay|ArrDelay|\n",
      "+----------+---------+-------+---------------+-------------+--------+--------+\n",
      "|        19|        5|     DL|          11433|        13303|      -3|       1|\n",
      "|        19|        5|     DL|          14869|        12478|       0|      -8|\n",
      "|        19|        5|     DL|          14057|        14869|      -4|     -15|\n",
      "|        19|        5|     DL|          15016|        11433|      28|      24|\n",
      "|        19|        5|     DL|          11193|        12892|      -6|     -11|\n",
      "+----------+---------+-------+---------------+-------------+--------+--------+\n",
      "only showing top 5 rows\n",
      "\n"
     ]
    }
   ],
   "source": [
    "df.show(5)"
   ]
  },
  {
   "cell_type": "code",
   "execution_count": 22,
   "metadata": {},
   "outputs": [
    {
     "name": "stdout",
     "output_type": "stream",
     "text": [
      "root\n",
      " |-- DayofMonth: integer (nullable = true)\n",
      " |-- DayofWeek: integer (nullable = true)\n",
      " |-- Carrier: string (nullable = true)\n",
      " |-- OriginAirportID: integer (nullable = true)\n",
      " |-- DestAirportID: integer (nullable = true)\n",
      " |-- DepDelay: integer (nullable = true)\n",
      " |-- ArrDelay: integer (nullable = true)\n",
      "\n"
     ]
    }
   ],
   "source": [
    "df.printSchema()"
   ]
  },
  {
   "cell_type": "markdown",
   "metadata": {},
   "source": [
    "# select Some import data for Classification features and change arrival delay into binary class \n",
    "* late\n",
    "* not late"
   ]
  },
  {
   "cell_type": "code",
   "execution_count": 27,
   "metadata": {},
   "outputs": [],
   "source": [
    "df1=df.select(\"DayofMonth\",\"DayofWeek\",\"originAirportID\",\"DestAirportID\",\"DepDelay\",\\\n",
    "              ((col(\"ArrDelay\") > 15).cast(\"Int\").alias(\"Late\")))"
   ]
  },
  {
   "cell_type": "code",
   "execution_count": 29,
   "metadata": {},
   "outputs": [
    {
     "name": "stdout",
     "output_type": "stream",
     "text": [
      "+----------+---------+---------------+-------------+--------+----+\n",
      "|DayofMonth|DayofWeek|originAirportID|DestAirportID|DepDelay|Late|\n",
      "+----------+---------+---------------+-------------+--------+----+\n",
      "|        19|        5|          11433|        13303|      -3|   0|\n",
      "|        19|        5|          14869|        12478|       0|   0|\n",
      "|        19|        5|          14057|        14869|      -4|   0|\n",
      "|        19|        5|          15016|        11433|      28|   1|\n",
      "|        19|        5|          11193|        12892|      -6|   0|\n",
      "|        19|        5|          10397|        15016|      -1|   0|\n",
      "|        19|        5|          15016|        10397|       0|   0|\n",
      "|        19|        5|          10397|        14869|      15|   1|\n",
      "|        19|        5|          10397|        10423|      33|   1|\n",
      "|        19|        5|          11278|        10397|     323|   1|\n",
      "|        19|        5|          14107|        13487|      -7|   0|\n",
      "|        19|        5|          11433|        11298|      22|   1|\n",
      "|        19|        5|          11298|        11433|      40|   1|\n",
      "|        19|        5|          11433|        12892|      -2|   0|\n",
      "|        19|        5|          10397|        12451|      71|   1|\n",
      "|        19|        5|          12451|        10397|      75|   1|\n",
      "|        19|        5|          12953|        10397|      -1|   0|\n",
      "|        19|        5|          11433|        12953|      -3|   0|\n",
      "|        19|        5|          10397|        14771|      31|   1|\n",
      "|        19|        5|          13204|        10397|       8|   1|\n",
      "+----------+---------+---------------+-------------+--------+----+\n",
      "only showing top 20 rows\n",
      "\n"
     ]
    }
   ],
   "source": [
    "df1.show()"
   ]
  },
  {
   "cell_type": "markdown",
   "metadata": {},
   "source": [
    "# Dividing Data into Train and Test"
   ]
  },
  {
   "cell_type": "code",
   "execution_count": 30,
   "metadata": {},
   "outputs": [],
   "source": [
    "train_data,test_data=df1.randomSplit([0.7,0.3])"
   ]
  },
  {
   "cell_type": "code",
   "execution_count": 31,
   "metadata": {},
   "outputs": [
    {
     "data": {
      "text/plain": [
       "1892514"
      ]
     },
     "execution_count": 31,
     "metadata": {},
     "output_type": "execute_result"
    }
   ],
   "source": [
    "train_data.count()"
   ]
  },
  {
   "cell_type": "code",
   "execution_count": 32,
   "metadata": {},
   "outputs": [
    {
     "data": {
      "text/plain": [
       "809704"
      ]
     },
     "execution_count": 32,
     "metadata": {},
     "output_type": "execute_result"
    }
   ],
   "source": [
    "test_data.count()"
   ]
  },
  {
   "cell_type": "markdown",
   "metadata": {},
   "source": [
    "# Preparing Data"
   ]
  },
  {
   "cell_type": "code",
   "execution_count": 38,
   "metadata": {},
   "outputs": [
    {
     "name": "stderr",
     "output_type": "stream",
     "text": [
      "Exception ignored in: <function JavaWrapper.__del__ at 0x000001C1139B0160>\n",
      "Traceback (most recent call last):\n",
      "  File \"C:\\spark\\python\\pyspark\\ml\\wrapper.py\", line 39, in __del__\n",
      "    if SparkContext._active_spark_context and self._java_obj is not None:\n",
      "AttributeError: 'VectorAssembler' object has no attribute '_java_obj'\n"
     ]
    }
   ],
   "source": [
    "# Vector Assembler\n",
    "assembler=VectorAssembler(inputCols=[\"DayofMonth\",\"DayofWeek\",\"originAirportID\",\"DestAirportID\",\"DepDelay\"]\\\n",
    "                          ,outputCol=\"features\")"
   ]
  },
  {
   "cell_type": "code",
   "execution_count": 39,
   "metadata": {},
   "outputs": [],
   "source": [
    "tran_data=assembler.transform(df1)"
   ]
  },
  {
   "cell_type": "code",
   "execution_count": 40,
   "metadata": {},
   "outputs": [
    {
     "name": "stdout",
     "output_type": "stream",
     "text": [
      "+----------+---------+---------------+-------------+--------+----+--------------------+\n",
      "|DayofMonth|DayofWeek|originAirportID|DestAirportID|DepDelay|Late|            features|\n",
      "+----------+---------+---------------+-------------+--------+----+--------------------+\n",
      "|        19|        5|          11433|        13303|      -3|   0|[19.0,5.0,11433.0...|\n",
      "|        19|        5|          14869|        12478|       0|   0|[19.0,5.0,14869.0...|\n",
      "|        19|        5|          14057|        14869|      -4|   0|[19.0,5.0,14057.0...|\n",
      "|        19|        5|          15016|        11433|      28|   1|[19.0,5.0,15016.0...|\n",
      "|        19|        5|          11193|        12892|      -6|   0|[19.0,5.0,11193.0...|\n",
      "+----------+---------+---------------+-------------+--------+----+--------------------+\n",
      "only showing top 5 rows\n",
      "\n"
     ]
    }
   ],
   "source": [
    "tran_data.show(5)"
   ]
  },
  {
   "cell_type": "markdown",
   "metadata": {},
   "source": [
    "# Final DataSet"
   ]
  },
  {
   "cell_type": "code",
   "execution_count": 44,
   "metadata": {},
   "outputs": [],
   "source": [
    "tran_data=tran_data.select(\"features\",tran_data[\"Late\"].alias(\"label\"))"
   ]
  },
  {
   "cell_type": "code",
   "execution_count": 45,
   "metadata": {},
   "outputs": [
    {
     "name": "stdout",
     "output_type": "stream",
     "text": [
      "+--------------------+-----+\n",
      "|            features|label|\n",
      "+--------------------+-----+\n",
      "|[19.0,5.0,11433.0...|    0|\n",
      "|[19.0,5.0,14869.0...|    0|\n",
      "|[19.0,5.0,14057.0...|    0|\n",
      "|[19.0,5.0,15016.0...|    1|\n",
      "|[19.0,5.0,11193.0...|    0|\n",
      "+--------------------+-----+\n",
      "only showing top 5 rows\n",
      "\n"
     ]
    }
   ],
   "source": [
    "tran_data.show(5)"
   ]
  },
  {
   "cell_type": "code",
   "execution_count": 46,
   "metadata": {},
   "outputs": [],
   "source": [
    "train_data,test_data=tran_data.randomSplit([0.7,0.3])"
   ]
  },
  {
   "cell_type": "code",
   "execution_count": 47,
   "metadata": {},
   "outputs": [
    {
     "data": {
      "text/plain": [
       "1891046"
      ]
     },
     "execution_count": 47,
     "metadata": {},
     "output_type": "execute_result"
    }
   ],
   "source": [
    "train_data.count()"
   ]
  },
  {
   "cell_type": "code",
   "execution_count": 48,
   "metadata": {},
   "outputs": [
    {
     "data": {
      "text/plain": [
       "811172"
      ]
     },
     "execution_count": 48,
     "metadata": {},
     "output_type": "execute_result"
    }
   ],
   "source": [
    "test_data.count()"
   ]
  },
  {
   "cell_type": "code",
   "execution_count": 49,
   "metadata": {},
   "outputs": [
    {
     "name": "stdout",
     "output_type": "stream",
     "text": [
      "+--------------------+-----+\n",
      "|            features|label|\n",
      "+--------------------+-----+\n",
      "|[1.0,1.0,10140.0,...|    0|\n",
      "|[1.0,1.0,10140.0,...|    0|\n",
      "+--------------------+-----+\n",
      "only showing top 2 rows\n",
      "\n"
     ]
    }
   ],
   "source": [
    "train_data.show(2)"
   ]
  },
  {
   "cell_type": "markdown",
   "metadata": {},
   "source": [
    "# Training Data"
   ]
  },
  {
   "cell_type": "code",
   "execution_count": 51,
   "metadata": {},
   "outputs": [],
   "source": [
    "lr=LogisticRegression(featuresCol=\"features\",labelCol=\"label\",predictionCol=\"prediction\",maxIter=10, regParam=0.3)"
   ]
  },
  {
   "cell_type": "code",
   "execution_count": 52,
   "metadata": {},
   "outputs": [
    {
     "name": "stdout",
     "output_type": "stream",
     "text": [
      "Model is trained\n"
     ]
    }
   ],
   "source": [
    "lrmodel=lr.fit(train_data)\n",
    "print(\"Model is trained\")"
   ]
  },
  {
   "cell_type": "code",
   "execution_count": 55,
   "metadata": {},
   "outputs": [
    {
     "name": "stdout",
     "output_type": "stream",
     "text": [
      "+--------------------+-----+--------------------+--------------------+----------+\n",
      "|            features|label|       rawPrediction|         probability|prediction|\n",
      "+--------------------+-----+--------------------+--------------------+----------+\n",
      "|[1.0,1.0,10140.0,...|    0|[1.59393660791932...|[0.83116923559442...|       0.0|\n",
      "|[1.0,1.0,10140.0,...|    0|[1.42734379461425...|[0.80648711078906...|       0.0|\n",
      "|[1.0,1.0,10140.0,...|    0|[1.58243677587768...|[0.82954934807100...|       0.0|\n",
      "|[1.0,1.0,10140.0,...|    0|[1.55446760727218...|[0.82555805675526...|       0.0|\n",
      "|[1.0,1.0,10140.0,...|    0|[1.54048302296942...|[0.82353493157554...|       0.0|\n",
      "|[1.0,1.0,10140.0,...|    1|[1.24680675261159...|[0.77674660533494...|       0.0|\n",
      "|[1.0,1.0,10140.0,...|    1|[1.05102257237304...|[0.74097121279383...|       0.0|\n",
      "|[1.0,1.0,10140.0,...|    0|[1.56854731550140...|[0.82757641798513...|       0.0|\n",
      "|[1.0,1.0,10140.0,...|    0|[1.55456273119865...|[0.82557175531333...|       0.0|\n",
      "|[1.0,1.0,10140.0,...|    0|[1.54057814689589...|[0.82354875504880...|       0.0|\n",
      "+--------------------+-----+--------------------+--------------------+----------+\n",
      "only showing top 10 rows\n",
      "\n"
     ]
    }
   ],
   "source": [
    "lrmodel.transform(train_data).show(10)"
   ]
  },
  {
   "cell_type": "code",
   "execution_count": 56,
   "metadata": {},
   "outputs": [
    {
     "data": {
      "text/plain": [
       "DenseVector([0.0005, -0.0042, -0.0, -0.0, 0.014])"
      ]
     },
     "execution_count": 56,
     "metadata": {},
     "output_type": "execute_result"
    }
   ],
   "source": [
    "lrmodel.coefficients"
   ]
  },
  {
   "cell_type": "code",
   "execution_count": 62,
   "metadata": {},
   "outputs": [
    {
     "name": "stdout",
     "output_type": "stream",
     "text": [
      "+--------------------+-----+--------------------+--------------------+----------+\n",
      "|            features|label|       rawPrediction|         probability|prediction|\n",
      "+--------------------+-----+--------------------+--------------------+----------+\n",
      "|[1.0,1.0,10140.0,...|    0|[1.59393660791932...|[0.83116923559442...|       0.0|\n",
      "|[1.0,1.0,10140.0,...|    0|[1.42734379461425...|[0.80648711078906...|       0.0|\n",
      "|[1.0,1.0,10140.0,...|    0|[1.58243677587768...|[0.82954934807100...|       0.0|\n",
      "|[1.0,1.0,10140.0,...|    0|[1.55446760727218...|[0.82555805675526...|       0.0|\n",
      "|[1.0,1.0,10140.0,...|    0|[1.54048302296942...|[0.82353493157554...|       0.0|\n",
      "+--------------------+-----+--------------------+--------------------+----------+\n",
      "only showing top 5 rows\n",
      "\n"
     ]
    }
   ],
   "source": [
    "# Grab the Correct prediction\n",
    "train_pred=lrmodel.transform(train_data)\n",
    "train_pred.show(5)"
   ]
  },
  {
   "cell_type": "code",
   "execution_count": 65,
   "metadata": {},
   "outputs": [],
   "source": [
    "correct_prediction=train_pred.filter(train_pred[\"label\"]==train_pred[\"prediction\"]).count()"
   ]
  },
  {
   "cell_type": "code",
   "execution_count": 69,
   "metadata": {},
   "outputs": [
    {
     "name": "stdout",
     "output_type": "stream",
     "text": [
      "Accuracy for training-data :, 0.8244696321506721\n"
     ]
    }
   ],
   "source": [
    "print(\"Accuracy for training-data :,\",correct_prediction/(train_data.count()))"
   ]
  },
  {
   "cell_type": "markdown",
   "metadata": {},
   "source": [
    "# testing Data"
   ]
  },
  {
   "cell_type": "code",
   "execution_count": 72,
   "metadata": {},
   "outputs": [
    {
     "name": "stdout",
     "output_type": "stream",
     "text": [
      "+--------------------+-----+--------------------+--------------------+----------+\n",
      "|            features|label|       rawPrediction|         probability|prediction|\n",
      "+--------------------+-----+--------------------+--------------------+----------+\n",
      "|[1.0,1.0,10140.0,...|    0|[1.56596743931381...|[0.82720797476176...|       0.0|\n",
      "|[1.0,1.0,10140.0,...|    0|[1.56845219157493...|[0.82756284397806...|       0.0|\n",
      "|[1.0,1.0,10140.0,...|    0|[1.54048302296942...|[0.82353493157554...|       0.0|\n",
      "|[1.0,1.0,10140.0,...|    1|[1.24680675261159...|[0.77674660533494...|       0.0|\n",
      "|[1.0,1.0,10140.0,...|    0|[1.59651648410691...|[0.83153095247597...|       0.0|\n",
      "|[1.0,1.0,10140.0,...|    0|[1.48463980968488...|[0.81527237390204...|       0.0|\n",
      "|[1.0,1.0,10140.0,...|    0|[1.68044128518279...|[0.84296295570456...|       0.0|\n",
      "|[1.0,1.0,10140.0,...|    0|[1.68044128518279...|[0.84296295570456...|       0.0|\n",
      "|[1.0,1.0,10140.0,...|    0|[1.59653377936627...|[0.83153337530701...|       0.0|\n",
      "|[1.0,1.0,10140.0,...|    0|[1.56856461076076...|[0.82757888589553...|       0.0|\n",
      "|[1.0,1.0,10140.0,...|    0|[1.54059544215525...|[0.82355126831616...|       0.0|\n",
      "|[1.0,1.0,10140.0,...|    0|[1.31941620441233...|[0.78908456175230...|       0.0|\n",
      "|[1.0,1.0,10140.0,...|    0|[1.51541081030641...|[0.81986170472835...|       0.0|\n",
      "|[1.0,1.0,10140.0,...|    0|[1.61330866551213...|[0.83387024450694...|       0.0|\n",
      "|[1.0,1.0,10140.0,...|    0|[1.57315073703389...|[0.82823230697126...|       0.0|\n",
      "|[1.0,1.0,10140.0,...|    0|[1.44728947830911...|[0.80958093151077...|       0.0|\n",
      "|[1.0,1.0,10140.0,...|    1|[1.09858287185657...|[0.74999448430727...|       0.0|\n",
      "|[1.0,1.0,10140.0,...|    0|[1.47787311362093...|[0.81425111212560...|       0.0|\n",
      "|[1.0,1.0,10140.0,...|    0|[1.59064625898635...|[0.83070700775044...|       0.0|\n",
      "|[1.0,1.0,10140.0,...|    0|[1.57666167468360...|[0.82873120998458...|       0.0|\n",
      "+--------------------+-----+--------------------+--------------------+----------+\n",
      "only showing top 20 rows\n",
      "\n"
     ]
    }
   ],
   "source": [
    "test=lrmodel.transform(test_data).show()"
   ]
  },
  {
   "cell_type": "code",
   "execution_count": 75,
   "metadata": {},
   "outputs": [
    {
     "ename": "AttributeError",
     "evalue": "'NoneType' object has no attribute 'filter'",
     "output_type": "error",
     "traceback": [
      "\u001b[1;31m---------------------------------------------------------------------------\u001b[0m",
      "\u001b[1;31mAttributeError\u001b[0m                            Traceback (most recent call last)",
      "\u001b[1;32m<ipython-input-75-3c08d4a82f0e>\u001b[0m in \u001b[0;36m<module>\u001b[1;34m\u001b[0m\n\u001b[1;32m----> 1\u001b[1;33m \u001b[0mcorrect_prediction_test\u001b[0m\u001b[1;33m=\u001b[0m\u001b[0mtest\u001b[0m\u001b[1;33m.\u001b[0m\u001b[0mfilter\u001b[0m\u001b[1;33m(\u001b[0m\u001b[0mtest\u001b[0m\u001b[1;33m[\u001b[0m\u001b[1;34m\"label\"\u001b[0m\u001b[1;33m]\u001b[0m\u001b[1;33m==\u001b[0m\u001b[0mtest\u001b[0m\u001b[1;33m[\u001b[0m\u001b[1;34m\"prediction\"\u001b[0m\u001b[1;33m]\u001b[0m\u001b[1;33m)\u001b[0m\u001b[1;33m.\u001b[0m\u001b[0mcount\u001b[0m\u001b[1;33m(\u001b[0m\u001b[1;33m)\u001b[0m\u001b[1;33m\u001b[0m\u001b[1;33m\u001b[0m\u001b[0m\n\u001b[0m",
      "\u001b[1;31mAttributeError\u001b[0m: 'NoneType' object has no attribute 'filter'"
     ]
    }
   ],
   "source": [
    "correct_prediction_test=test.filter(test[\"label\"]==test[\"prediction\"]).count()"
   ]
  },
  {
   "cell_type": "code",
   "execution_count": 74,
   "metadata": {},
   "outputs": [
    {
     "name": "stdout",
     "output_type": "stream",
     "text": [
      "Accuracy for test-data :, 0.8244696321506721\n"
     ]
    }
   ],
   "source": [
    "print(\"Accuracy for test-data :,\",correct_prediction_test/(test_data.count()))"
   ]
  },
  {
   "cell_type": "code",
   "execution_count": null,
   "metadata": {},
   "outputs": [],
   "source": []
  }
 ],
 "metadata": {
  "kernelspec": {
   "display_name": "Python 3",
   "language": "python",
   "name": "python3"
  },
  "language_info": {
   "codemirror_mode": {
    "name": "ipython",
    "version": 3
   },
   "file_extension": ".py",
   "mimetype": "text/x-python",
   "name": "python",
   "nbconvert_exporter": "python",
   "pygments_lexer": "ipython3",
   "version": "3.8.5"
  }
 },
 "nbformat": 4,
 "nbformat_minor": 4
}
