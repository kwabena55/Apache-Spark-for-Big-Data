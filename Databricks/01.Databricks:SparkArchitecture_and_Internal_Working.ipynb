{
 "cells": [
  {
   "cell_type": "markdown",
   "metadata": {},
   "source": [
    "# Whats Spark \n",
    "* Distributed computig engine for processing big data\n",
    "* Similar to Hadoop but differs in in-memory processing\n",
    "* In memory\n",
    "* Hadoop adopts In- disk processing\n",
    "* Spark is 100x faster in memory and 10x faster in disc\n",
    "* Well designed layered achitecture which follow master/slave concept and between master and slave we have the Cluster manager layer\n",
    "* All these 3 are designed well within its boundary layer and loosely coupled to one another"
   ]
  },
  {
   "cell_type": "code",
   "execution_count": null,
   "metadata": {},
   "outputs": [],
   "source": []
  },
  {
   "cell_type": "markdown",
   "metadata": {},
   "source": []
  }
 ],
 "metadata": {
  "kernelspec": {
   "display_name": "Python 3",
   "language": "python",
   "name": "python3"
  },
  "language_info": {
   "codemirror_mode": {
    "name": "ipython",
    "version": 3
   },
   "file_extension": ".py",
   "mimetype": "text/x-python",
   "name": "python",
   "nbconvert_exporter": "python",
   "pygments_lexer": "ipython3",
   "version": "3.9.6"
  },
  "orig_nbformat": 4
 },
 "nbformat": 4,
 "nbformat_minor": 2
}
