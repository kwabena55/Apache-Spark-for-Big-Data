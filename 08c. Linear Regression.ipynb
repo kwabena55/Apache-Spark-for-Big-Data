{
 "cells": [
  {
   "cell_type": "code",
   "execution_count": 2,
   "metadata": {},
   "outputs": [],
   "source": [
    "from pyspark.sql import SparkSession\n",
    "from pyspark.sql.functions import *\n",
    "from pyspark.sql.types import *\n",
    "from pyspark.ml.regression import LinearRegression\n",
    "from pyspark.ml.linalg import Vectors\n",
    "from pyspark.ml.feature import VectorAssembler\n",
    "spark=SparkSession.builder.appName(\"Linear Regression\").getOrCreate()"
   ]
  },
  {
   "cell_type": "code",
   "execution_count": 3,
   "metadata": {},
   "outputs": [],
   "source": [
    "\n",
    "flightschema=StructType([\n",
    "\n",
    "                            StructField(\"DayofMonth\",IntegerType(), False),\n",
    "                            StructField(\"DayOfWeek\",IntegerType(), False),\n",
    "                            StructField(\"Carrier\",StringType(), False),\n",
    "                            StructField(\"OriginAirportID\",IntegerType(), False),\n",
    "                            StructField(\"DestAirportID\",IntegerType(), False),\n",
    "                            StructField(\"DepDelay\",IntegerType(), False),\n",
    "                            StructField(\"ArrDelay\",IntegerType(), False)\n",
    "])"
   ]
  },
  {
   "cell_type": "code",
   "execution_count": 4,
   "metadata": {},
   "outputs": [],
   "source": [
    "df=spark.read.csv(\"C:/Users/User/Desktop/SparkFolder/Data/raw-flight-data.csv\",schema=flightschema,header=True)"
   ]
  },
  {
   "cell_type": "code",
   "execution_count": 5,
   "metadata": {},
   "outputs": [
    {
     "name": "stdout",
     "output_type": "stream",
     "text": [
      "+----------+---------+-------+---------------+-------------+--------+--------+\n",
      "|DayofMonth|DayOfWeek|Carrier|OriginAirportID|DestAirportID|DepDelay|ArrDelay|\n",
      "+----------+---------+-------+---------------+-------------+--------+--------+\n",
      "|        19|        5|     DL|          11433|        13303|      -3|       1|\n",
      "|        19|        5|     DL|          14869|        12478|       0|      -8|\n",
      "|        19|        5|     DL|          14057|        14869|      -4|     -15|\n",
      "+----------+---------+-------+---------------+-------------+--------+--------+\n",
      "only showing top 3 rows\n",
      "\n"
     ]
    }
   ],
   "source": [
    "df.show(3)"
   ]
  },
  {
   "cell_type": "markdown",
   "metadata": {},
   "source": [
    "# Select Important Features"
   ]
  },
  {
   "cell_type": "code",
   "execution_count": 6,
   "metadata": {},
   "outputs": [
    {
     "data": {
      "text/plain": [
       "['DayofMonth',\n",
       " 'DayOfWeek',\n",
       " 'Carrier',\n",
       " 'OriginAirportID',\n",
       " 'DestAirportID',\n",
       " 'DepDelay',\n",
       " 'ArrDelay']"
      ]
     },
     "execution_count": 6,
     "metadata": {},
     "output_type": "execute_result"
    }
   ],
   "source": [
    "df.columns"
   ]
  },
  {
   "cell_type": "code",
   "execution_count": 7,
   "metadata": {},
   "outputs": [],
   "source": [
    "important_cols=['DayofMonth','DayOfWeek','OriginAirportID','DestAirportID','DepDelay','ArrDelay']\n"
   ]
  },
  {
   "cell_type": "code",
   "execution_count": 8,
   "metadata": {},
   "outputs": [],
   "source": [
    "data=df.select(important_cols)"
   ]
  },
  {
   "cell_type": "code",
   "execution_count": 9,
   "metadata": {},
   "outputs": [
    {
     "name": "stdout",
     "output_type": "stream",
     "text": [
      "+----------+---------+---------------+-------------+--------+--------+\n",
      "|DayofMonth|DayOfWeek|OriginAirportID|DestAirportID|DepDelay|ArrDelay|\n",
      "+----------+---------+---------------+-------------+--------+--------+\n",
      "|        19|        5|          11433|        13303|      -3|       1|\n",
      "|        19|        5|          14869|        12478|       0|      -8|\n",
      "|        19|        5|          14057|        14869|      -4|     -15|\n",
      "|        19|        5|          15016|        11433|      28|      24|\n",
      "|        19|        5|          11193|        12892|      -6|     -11|\n",
      "|        19|        5|          10397|        15016|      -1|     -19|\n",
      "|        19|        5|          15016|        10397|       0|      -1|\n",
      "|        19|        5|          10397|        14869|      15|      24|\n",
      "|        19|        5|          10397|        10423|      33|      34|\n",
      "|        19|        5|          11278|        10397|     323|     322|\n",
      "|        19|        5|          14107|        13487|      -7|     -13|\n",
      "|        19|        5|          11433|        11298|      22|      41|\n",
      "|        19|        5|          11298|        11433|      40|      20|\n",
      "|        19|        5|          11433|        12892|      -2|      -7|\n",
      "|        19|        5|          10397|        12451|      71|      75|\n",
      "|        19|        5|          12451|        10397|      75|      57|\n",
      "|        19|        5|          12953|        10397|      -1|      10|\n",
      "|        19|        5|          11433|        12953|      -3|     -10|\n",
      "|        19|        5|          10397|        14771|      31|      38|\n",
      "|        19|        5|          13204|        10397|       8|      25|\n",
      "+----------+---------+---------------+-------------+--------+--------+\n",
      "only showing top 20 rows\n",
      "\n"
     ]
    }
   ],
   "source": [
    "data.show()"
   ]
  },
  {
   "cell_type": "markdown",
   "metadata": {},
   "source": [
    "# Preparing training Data"
   ]
  },
  {
   "cell_type": "code",
   "execution_count": 10,
   "metadata": {},
   "outputs": [],
   "source": [
    "#definr the assembler\n",
    "assembler=VectorAssembler(inputCols=['DayofMonth','DayOfWeek','OriginAirportID','DestAirportID','DepDelay']\\\n",
    "                          ,outputCol=\"features\")"
   ]
  },
  {
   "cell_type": "code",
   "execution_count": 11,
   "metadata": {},
   "outputs": [],
   "source": [
    "#Transform Data\n",
    "traindata_tran=assembler.transform(data)"
   ]
  },
  {
   "cell_type": "code",
   "execution_count": 12,
   "metadata": {},
   "outputs": [
    {
     "name": "stdout",
     "output_type": "stream",
     "text": [
      "+----------+---------+---------------+-------------+--------+--------+--------------------+\n",
      "|DayofMonth|DayOfWeek|OriginAirportID|DestAirportID|DepDelay|ArrDelay|            features|\n",
      "+----------+---------+---------------+-------------+--------+--------+--------------------+\n",
      "|        19|        5|          11433|        13303|      -3|       1|[19.0,5.0,11433.0...|\n",
      "|        19|        5|          14869|        12478|       0|      -8|[19.0,5.0,14869.0...|\n",
      "|        19|        5|          14057|        14869|      -4|     -15|[19.0,5.0,14057.0...|\n",
      "|        19|        5|          15016|        11433|      28|      24|[19.0,5.0,15016.0...|\n",
      "|        19|        5|          11193|        12892|      -6|     -11|[19.0,5.0,11193.0...|\n",
      "|        19|        5|          10397|        15016|      -1|     -19|[19.0,5.0,10397.0...|\n",
      "|        19|        5|          15016|        10397|       0|      -1|[19.0,5.0,15016.0...|\n",
      "|        19|        5|          10397|        14869|      15|      24|[19.0,5.0,10397.0...|\n",
      "|        19|        5|          10397|        10423|      33|      34|[19.0,5.0,10397.0...|\n",
      "|        19|        5|          11278|        10397|     323|     322|[19.0,5.0,11278.0...|\n",
      "|        19|        5|          14107|        13487|      -7|     -13|[19.0,5.0,14107.0...|\n",
      "|        19|        5|          11433|        11298|      22|      41|[19.0,5.0,11433.0...|\n",
      "|        19|        5|          11298|        11433|      40|      20|[19.0,5.0,11298.0...|\n",
      "|        19|        5|          11433|        12892|      -2|      -7|[19.0,5.0,11433.0...|\n",
      "|        19|        5|          10397|        12451|      71|      75|[19.0,5.0,10397.0...|\n",
      "|        19|        5|          12451|        10397|      75|      57|[19.0,5.0,12451.0...|\n",
      "|        19|        5|          12953|        10397|      -1|      10|[19.0,5.0,12953.0...|\n",
      "|        19|        5|          11433|        12953|      -3|     -10|[19.0,5.0,11433.0...|\n",
      "|        19|        5|          10397|        14771|      31|      38|[19.0,5.0,10397.0...|\n",
      "|        19|        5|          13204|        10397|       8|      25|[19.0,5.0,13204.0...|\n",
      "+----------+---------+---------------+-------------+--------+--------+--------------------+\n",
      "only showing top 20 rows\n",
      "\n"
     ]
    }
   ],
   "source": [
    "traindata_tran.show()"
   ]
  },
  {
   "cell_type": "code",
   "execution_count": 13,
   "metadata": {},
   "outputs": [
    {
     "data": {
      "text/plain": [
       "DenseVector([19.0, 5.0, 11433.0, 13303.0, -3.0])"
      ]
     },
     "execution_count": 13,
     "metadata": {},
     "output_type": "execute_result"
    }
   ],
   "source": [
    "traindata_tran.head(1)[0][-1]  # Shows 5 features being vectorised"
   ]
  },
  {
   "cell_type": "code",
   "execution_count": 14,
   "metadata": {},
   "outputs": [],
   "source": [
    "final_train_data=traindata_tran.select(traindata_tran[\"ArrDelay\"].cast(\"Int\").alias(\"label\"),traindata_tran[\"features\"])"
   ]
  },
  {
   "cell_type": "code",
   "execution_count": 15,
   "metadata": {},
   "outputs": [
    {
     "name": "stdout",
     "output_type": "stream",
     "text": [
      "+-----+-------------------------------+\n",
      "|label|features                       |\n",
      "+-----+-------------------------------+\n",
      "|1    |[19.0,5.0,11433.0,13303.0,-3.0]|\n",
      "|-8   |[19.0,5.0,14869.0,12478.0,0.0] |\n",
      "|-15  |[19.0,5.0,14057.0,14869.0,-4.0]|\n",
      "+-----+-------------------------------+\n",
      "only showing top 3 rows\n",
      "\n"
     ]
    }
   ],
   "source": [
    "final_train_data.show(truncate=False,n=3)  # Nice trick, reaon to  dirty your hands"
   ]
  },
  {
   "cell_type": "code",
   "execution_count": 16,
   "metadata": {},
   "outputs": [
    {
     "data": {
      "text/plain": [
       "2719418"
      ]
     },
     "execution_count": 16,
     "metadata": {},
     "output_type": "execute_result"
    }
   ],
   "source": [
    "final_train_data.count()"
   ]
  },
  {
   "cell_type": "markdown",
   "metadata": {},
   "source": [
    "# Divide Data into Training and Testing Data"
   ]
  },
  {
   "cell_type": "code",
   "execution_count": 17,
   "metadata": {},
   "outputs": [],
   "source": [
    "df1=traindata_tran.select([\"ArrDelay\",\"features\"])"
   ]
  },
  {
   "cell_type": "code",
   "execution_count": 18,
   "metadata": {},
   "outputs": [
    {
     "name": "stdout",
     "output_type": "stream",
     "text": [
      "+--------+--------------------+\n",
      "|ArrDelay|            features|\n",
      "+--------+--------------------+\n",
      "|       1|[19.0,5.0,11433.0...|\n",
      "|      -8|[19.0,5.0,14869.0...|\n",
      "|     -15|[19.0,5.0,14057.0...|\n",
      "+--------+--------------------+\n",
      "only showing top 3 rows\n",
      "\n"
     ]
    }
   ],
   "source": [
    "df1.show(3)"
   ]
  },
  {
   "cell_type": "code",
   "execution_count": 19,
   "metadata": {},
   "outputs": [
    {
     "name": "stdout",
     "output_type": "stream",
     "text": [
      "+--------+--------------------+\n",
      "|ArrDelay|            features|\n",
      "+--------+--------------------+\n",
      "|       1|[19.0,5.0,11433.0...|\n",
      "|      -8|[19.0,5.0,14869.0...|\n",
      "|     -15|[19.0,5.0,14057.0...|\n",
      "|      24|[19.0,5.0,15016.0...|\n",
      "|     -11|[19.0,5.0,11193.0...|\n",
      "|     -19|[19.0,5.0,10397.0...|\n",
      "|      -1|[19.0,5.0,15016.0...|\n",
      "|      24|[19.0,5.0,10397.0...|\n",
      "|      34|[19.0,5.0,10397.0...|\n",
      "|     322|[19.0,5.0,11278.0...|\n",
      "|     -13|[19.0,5.0,14107.0...|\n",
      "|      41|[19.0,5.0,11433.0...|\n",
      "|      20|[19.0,5.0,11298.0...|\n",
      "|      -7|[19.0,5.0,11433.0...|\n",
      "|      75|[19.0,5.0,10397.0...|\n",
      "|      57|[19.0,5.0,12451.0...|\n",
      "|      10|[19.0,5.0,12953.0...|\n",
      "|     -10|[19.0,5.0,11433.0...|\n",
      "|      38|[19.0,5.0,10397.0...|\n",
      "|      25|[19.0,5.0,13204.0...|\n",
      "+--------+--------------------+\n",
      "only showing top 20 rows\n",
      "\n"
     ]
    }
   ],
   "source": [
    "df2=df1.na.drop().show()"
   ]
  },
  {
   "cell_type": "code",
   "execution_count": 20,
   "metadata": {},
   "outputs": [
    {
     "ename": "AttributeError",
     "evalue": "'NoneType' object has no attribute 'randomSplit'",
     "output_type": "error",
     "traceback": [
      "\u001b[1;31m---------------------------------------------------------------------------\u001b[0m",
      "\u001b[1;31mAttributeError\u001b[0m                            Traceback (most recent call last)",
      "\u001b[1;32m<ipython-input-20-1ac73f0b0a7b>\u001b[0m in \u001b[0;36m<module>\u001b[1;34m\u001b[0m\n\u001b[1;32m----> 1\u001b[1;33m \u001b[0mtrain_data\u001b[0m\u001b[1;33m,\u001b[0m \u001b[0mtest_data\u001b[0m\u001b[1;33m=\u001b[0m\u001b[0mdf2\u001b[0m\u001b[1;33m.\u001b[0m\u001b[0mrandomSplit\u001b[0m\u001b[1;33m(\u001b[0m\u001b[1;33m[\u001b[0m\u001b[1;36m0.7\u001b[0m\u001b[1;33m,\u001b[0m\u001b[1;36m0.3\u001b[0m\u001b[1;33m]\u001b[0m\u001b[1;33m)\u001b[0m\u001b[1;33m\u001b[0m\u001b[1;33m\u001b[0m\u001b[0m\n\u001b[0m",
      "\u001b[1;31mAttributeError\u001b[0m: 'NoneType' object has no attribute 'randomSplit'"
     ]
    }
   ],
   "source": [
    "train_data, test_data=df.randomSplit([0.7,0.3])"
   ]
  },
  {
   "cell_type": "code",
   "execution_count": null,
   "metadata": {},
   "outputs": [],
   "source": [
    "train_data.show(3)"
   ]
  },
  {
   "cell_type": "code",
   "execution_count": null,
   "metadata": {},
   "outputs": [],
   "source": []
  }
 ],
 "metadata": {
  "kernelspec": {
   "display_name": "Python 3",
   "language": "python",
   "name": "python3"
  },
  "language_info": {
   "codemirror_mode": {
    "name": "ipython",
    "version": 3
   },
   "file_extension": ".py",
   "mimetype": "text/x-python",
   "name": "python",
   "nbconvert_exporter": "python",
   "pygments_lexer": "ipython3",
   "version": "3.8.3"
  }
 },
 "nbformat": 4,
 "nbformat_minor": 4
}
