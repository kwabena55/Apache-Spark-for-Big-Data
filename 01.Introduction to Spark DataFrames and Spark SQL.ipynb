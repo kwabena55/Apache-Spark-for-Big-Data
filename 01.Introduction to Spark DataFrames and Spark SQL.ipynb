{
 "cells": [
  {
   "cell_type": "code",
   "execution_count": 3,
   "metadata": {},
   "outputs": [],
   "source": [
    "#Create a Spark  Session in order to be capable of accessing all Spark API\n",
    "from pyspark.sql import SparkSession\n",
    "from pyspark.sql.types import *\n",
    "spark=SparkSession.builder.appName(\"Intro to Dataframe\").getOrCreate()"
   ]
  },
  {
   "cell_type": "code",
   "execution_count": 11,
   "metadata": {},
   "outputs": [],
   "source": [
    "df=spark.read.csv(\"C:/Users/User/Desktop/SparkFolder/Data/purchases.csv\",inferSchema=True,header=True)"
   ]
  },
  {
   "cell_type": "code",
   "execution_count": 13,
   "metadata": {},
   "outputs": [
    {
     "output_type": "stream",
     "name": "stdout",
     "text": [
      "root\n |-- Date\tTime\tCity\tItem\tTotal\tPayment: string (nullable = true)\n\n"
     ]
    }
   ],
   "source": [
    "df.printSchema()"
   ]
  },
  {
   "source": [
    "Definr Data Schema for file we want to  read"
   ],
   "cell_type": "markdown",
   "metadata": {}
  },
  {
   "cell_type": "code",
   "execution_count": 14,
   "metadata": {},
   "outputs": [],
   "source": [
    "purchaseschema=StructType(\n",
    "                            [ StructField(\"Date\",DateType(),True),\n",
    "                              StructField(\"Time\",StringType(),True),\n",
    "                              StructField(\"Item\",StringType(),True),\n",
    "                              StructField(\"City\",StringType(),True),\n",
    "                              StructField(\"Total\",FloatType(),True),\n",
    "                              StructField(\"Payment\",StringType(),True)\n",
    "                             \n",
    "\n",
    "                            ]\n",
    ")"
   ]
  },
  {
   "cell_type": "code",
   "execution_count": 17,
   "metadata": {},
   "outputs": [],
   "source": [
    "df=spark.read.csv(\"C:/Users/User/Desktop/SparkFolder/Data/purchases.csv\",schema=purchaseschema,header=True,sep=\"\\t\")"
   ]
  },
  {
   "cell_type": "code",
   "execution_count": 19,
   "metadata": {},
   "outputs": [
    {
     "output_type": "stream",
     "name": "stdout",
     "text": [
      "root\n |-- Date: date (nullable = true)\n |-- Time: string (nullable = true)\n |-- Item: string (nullable = true)\n |-- City: string (nullable = true)\n |-- Total: float (nullable = true)\n |-- Payment: string (nullable = true)\n\n"
     ]
    }
   ],
   "source": [
    "df.printSchema()"
   ]
  },
  {
   "cell_type": "code",
   "execution_count": 20,
   "metadata": {},
   "outputs": [
    {
     "output_type": "stream",
     "name": "stdout",
     "text": [
      "+----------+-----+----------+-------------------+------+----------+\n|      Date| Time|      Item|               City| Total|   Payment|\n+----------+-----+----------+-------------------+------+----------+\n|2012-01-01|09:00|  San Jose|     Men's Clothing|214.05|      Amex|\n|2012-01-01|09:00|Fort Worth|   Women's Clothing|153.57|      Visa|\n|2012-01-01|09:00| San Diego|              Music| 66.08|      Cash|\n|2012-01-01|09:00|Pittsburgh|       Pet Supplies|493.51|  Discover|\n|2012-01-01|09:00|     Omaha|Children's Clothing|235.63|MasterCard|\n+----------+-----+----------+-------------------+------+----------+\nonly showing top 5 rows\n\n"
     ]
    }
   ],
   "source": [
    "df.show(5)"
   ]
  },
  {
   "source": [
    "Counting the Number of rows , printing the Dataframe  Schema and Printng Statistic of the data"
   ],
   "cell_type": "markdown",
   "metadata": {}
  },
  {
   "cell_type": "code",
   "execution_count": null,
   "metadata": {},
   "outputs": [],
   "source": []
  }
 ],
 "metadata": {
  "kernelspec": {
   "display_name": "Python 3",
   "language": "python",
   "name": "python3"
  },
  "language_info": {
   "codemirror_mode": {
    "name": "ipython",
    "version": 3
   },
   "file_extension": ".py",
   "mimetype": "text/x-python",
   "name": "python",
   "nbconvert_exporter": "python",
   "pygments_lexer": "ipython3",
   "version": "3.8.3-final"
  }
 },
 "nbformat": 4,
 "nbformat_minor": 4
}